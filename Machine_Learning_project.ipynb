{
 "cells": [
  {
   "cell_type": "markdown",
   "metadata": {},
   "source": [
    "# Data Exploration"
   ]
  },
  {
   "cell_type": "code",
   "execution_count": 536,
   "metadata": {},
   "outputs": [],
   "source": [
    "#Keep this section; ensures that before any cell is run, all modules are reloaded\n",
    "%reload_ext autoreload\n",
    "%autoreload 2"
   ]
  },
  {
   "cell_type": "code",
   "execution_count": 537,
   "metadata": {},
   "outputs": [
    {
     "data": {
      "text/html": [
       "<div>\n",
       "<style scoped>\n",
       "    .dataframe tbody tr th:only-of-type {\n",
       "        vertical-align: middle;\n",
       "    }\n",
       "\n",
       "    .dataframe tbody tr th {\n",
       "        vertical-align: top;\n",
       "    }\n",
       "\n",
       "    .dataframe thead th {\n",
       "        text-align: right;\n",
       "    }\n",
       "</style>\n",
       "<table border=\"1\" class=\"dataframe\">\n",
       "  <thead>\n",
       "    <tr style=\"text-align: right;\">\n",
       "      <th></th>\n",
       "      <th>0</th>\n",
       "      <th>1</th>\n",
       "      <th>2</th>\n",
       "      <th>3</th>\n",
       "      <th>4</th>\n",
       "    </tr>\n",
       "  </thead>\n",
       "  <tbody>\n",
       "    <tr>\n",
       "      <th>Patient ID</th>\n",
       "      <td>BMW7812</td>\n",
       "      <td>CZE1114</td>\n",
       "      <td>BNI9906</td>\n",
       "      <td>JLN3497</td>\n",
       "      <td>GFO8847</td>\n",
       "    </tr>\n",
       "    <tr>\n",
       "      <th>Age</th>\n",
       "      <td>67</td>\n",
       "      <td>21</td>\n",
       "      <td>21</td>\n",
       "      <td>84</td>\n",
       "      <td>66</td>\n",
       "    </tr>\n",
       "    <tr>\n",
       "      <th>Sex</th>\n",
       "      <td>Male</td>\n",
       "      <td>Male</td>\n",
       "      <td>Female</td>\n",
       "      <td>Male</td>\n",
       "      <td>Male</td>\n",
       "    </tr>\n",
       "    <tr>\n",
       "      <th>Cholesterol</th>\n",
       "      <td>208</td>\n",
       "      <td>389</td>\n",
       "      <td>324</td>\n",
       "      <td>383</td>\n",
       "      <td>318</td>\n",
       "    </tr>\n",
       "    <tr>\n",
       "      <th>Blood Pressure</th>\n",
       "      <td>158/88</td>\n",
       "      <td>165/93</td>\n",
       "      <td>174/99</td>\n",
       "      <td>163/100</td>\n",
       "      <td>91/88</td>\n",
       "    </tr>\n",
       "    <tr>\n",
       "      <th>Heart Rate</th>\n",
       "      <td>72</td>\n",
       "      <td>98</td>\n",
       "      <td>72</td>\n",
       "      <td>73</td>\n",
       "      <td>93</td>\n",
       "    </tr>\n",
       "    <tr>\n",
       "      <th>Diabetes</th>\n",
       "      <td>0</td>\n",
       "      <td>1</td>\n",
       "      <td>1</td>\n",
       "      <td>1</td>\n",
       "      <td>1</td>\n",
       "    </tr>\n",
       "    <tr>\n",
       "      <th>Family History</th>\n",
       "      <td>0</td>\n",
       "      <td>1</td>\n",
       "      <td>0</td>\n",
       "      <td>1</td>\n",
       "      <td>1</td>\n",
       "    </tr>\n",
       "    <tr>\n",
       "      <th>Smoking</th>\n",
       "      <td>1</td>\n",
       "      <td>1</td>\n",
       "      <td>0</td>\n",
       "      <td>1</td>\n",
       "      <td>1</td>\n",
       "    </tr>\n",
       "    <tr>\n",
       "      <th>Obesity</th>\n",
       "      <td>0</td>\n",
       "      <td>1</td>\n",
       "      <td>0</td>\n",
       "      <td>0</td>\n",
       "      <td>1</td>\n",
       "    </tr>\n",
       "    <tr>\n",
       "      <th>Alcohol Consumption</th>\n",
       "      <td>0</td>\n",
       "      <td>1</td>\n",
       "      <td>0</td>\n",
       "      <td>1</td>\n",
       "      <td>0</td>\n",
       "    </tr>\n",
       "    <tr>\n",
       "      <th>Exercise Hours Per Week</th>\n",
       "      <td>4.168189</td>\n",
       "      <td>1.813242</td>\n",
       "      <td>2.078353</td>\n",
       "      <td>9.82813</td>\n",
       "      <td>5.804299</td>\n",
       "    </tr>\n",
       "    <tr>\n",
       "      <th>Diet</th>\n",
       "      <td>Average</td>\n",
       "      <td>Unhealthy</td>\n",
       "      <td>Healthy</td>\n",
       "      <td>Average</td>\n",
       "      <td>Unhealthy</td>\n",
       "    </tr>\n",
       "    <tr>\n",
       "      <th>Previous Heart Problems</th>\n",
       "      <td>0</td>\n",
       "      <td>1</td>\n",
       "      <td>1</td>\n",
       "      <td>1</td>\n",
       "      <td>1</td>\n",
       "    </tr>\n",
       "    <tr>\n",
       "      <th>Medication Use</th>\n",
       "      <td>0</td>\n",
       "      <td>0</td>\n",
       "      <td>1</td>\n",
       "      <td>0</td>\n",
       "      <td>0</td>\n",
       "    </tr>\n",
       "    <tr>\n",
       "      <th>Stress Level</th>\n",
       "      <td>9</td>\n",
       "      <td>1</td>\n",
       "      <td>9</td>\n",
       "      <td>9</td>\n",
       "      <td>6</td>\n",
       "    </tr>\n",
       "    <tr>\n",
       "      <th>Sedentary Hours Per Day</th>\n",
       "      <td>6.615001</td>\n",
       "      <td>4.963459</td>\n",
       "      <td>9.463426</td>\n",
       "      <td>7.648981</td>\n",
       "      <td>1.514821</td>\n",
       "    </tr>\n",
       "    <tr>\n",
       "      <th>Income</th>\n",
       "      <td>261404</td>\n",
       "      <td>285768</td>\n",
       "      <td>235282</td>\n",
       "      <td>125640</td>\n",
       "      <td>160555</td>\n",
       "    </tr>\n",
       "    <tr>\n",
       "      <th>BMI</th>\n",
       "      <td>31.251233</td>\n",
       "      <td>27.194973</td>\n",
       "      <td>28.176571</td>\n",
       "      <td>36.464704</td>\n",
       "      <td>21.809144</td>\n",
       "    </tr>\n",
       "    <tr>\n",
       "      <th>Triglycerides</th>\n",
       "      <td>286</td>\n",
       "      <td>235</td>\n",
       "      <td>587</td>\n",
       "      <td>378</td>\n",
       "      <td>231</td>\n",
       "    </tr>\n",
       "    <tr>\n",
       "      <th>Physical Activity Days Per Week</th>\n",
       "      <td>0</td>\n",
       "      <td>1</td>\n",
       "      <td>4</td>\n",
       "      <td>3</td>\n",
       "      <td>1</td>\n",
       "    </tr>\n",
       "    <tr>\n",
       "      <th>Sleep Hours Per Day</th>\n",
       "      <td>6</td>\n",
       "      <td>7</td>\n",
       "      <td>4</td>\n",
       "      <td>4</td>\n",
       "      <td>5</td>\n",
       "    </tr>\n",
       "    <tr>\n",
       "      <th>Country</th>\n",
       "      <td>Argentina</td>\n",
       "      <td>Canada</td>\n",
       "      <td>France</td>\n",
       "      <td>Canada</td>\n",
       "      <td>Thailand</td>\n",
       "    </tr>\n",
       "    <tr>\n",
       "      <th>Continent</th>\n",
       "      <td>South America</td>\n",
       "      <td>North America</td>\n",
       "      <td>Europe</td>\n",
       "      <td>North America</td>\n",
       "      <td>Asia</td>\n",
       "    </tr>\n",
       "    <tr>\n",
       "      <th>Hemisphere</th>\n",
       "      <td>Southern Hemisphere</td>\n",
       "      <td>Northern Hemisphere</td>\n",
       "      <td>Northern Hemisphere</td>\n",
       "      <td>Northern Hemisphere</td>\n",
       "      <td>Northern Hemisphere</td>\n",
       "    </tr>\n",
       "    <tr>\n",
       "      <th>Heart Attack Risk</th>\n",
       "      <td>0</td>\n",
       "      <td>0</td>\n",
       "      <td>0</td>\n",
       "      <td>0</td>\n",
       "      <td>0</td>\n",
       "    </tr>\n",
       "  </tbody>\n",
       "</table>\n",
       "</div>"
      ],
      "text/plain": [
       "                                                   0                    1  \\\n",
       "Patient ID                                   BMW7812              CZE1114   \n",
       "Age                                               67                   21   \n",
       "Sex                                             Male                 Male   \n",
       "Cholesterol                                      208                  389   \n",
       "Blood Pressure                                158/88               165/93   \n",
       "Heart Rate                                        72                   98   \n",
       "Diabetes                                           0                    1   \n",
       "Family History                                     0                    1   \n",
       "Smoking                                            1                    1   \n",
       "Obesity                                            0                    1   \n",
       "Alcohol Consumption                                0                    1   \n",
       "Exercise Hours Per Week                     4.168189             1.813242   \n",
       "Diet                                         Average            Unhealthy   \n",
       "Previous Heart Problems                            0                    1   \n",
       "Medication Use                                     0                    0   \n",
       "Stress Level                                       9                    1   \n",
       "Sedentary Hours Per Day                     6.615001             4.963459   \n",
       "Income                                        261404               285768   \n",
       "BMI                                        31.251233            27.194973   \n",
       "Triglycerides                                    286                  235   \n",
       "Physical Activity Days Per Week                    0                    1   \n",
       "Sleep Hours Per Day                                6                    7   \n",
       "Country                                    Argentina               Canada   \n",
       "Continent                              South America        North America   \n",
       "Hemisphere                       Southern Hemisphere  Northern Hemisphere   \n",
       "Heart Attack Risk                                  0                    0   \n",
       "\n",
       "                                                   2                    3  \\\n",
       "Patient ID                                   BNI9906              JLN3497   \n",
       "Age                                               21                   84   \n",
       "Sex                                           Female                 Male   \n",
       "Cholesterol                                      324                  383   \n",
       "Blood Pressure                                174/99              163/100   \n",
       "Heart Rate                                        72                   73   \n",
       "Diabetes                                           1                    1   \n",
       "Family History                                     0                    1   \n",
       "Smoking                                            0                    1   \n",
       "Obesity                                            0                    0   \n",
       "Alcohol Consumption                                0                    1   \n",
       "Exercise Hours Per Week                     2.078353              9.82813   \n",
       "Diet                                         Healthy              Average   \n",
       "Previous Heart Problems                            1                    1   \n",
       "Medication Use                                     1                    0   \n",
       "Stress Level                                       9                    9   \n",
       "Sedentary Hours Per Day                     9.463426             7.648981   \n",
       "Income                                        235282               125640   \n",
       "BMI                                        28.176571            36.464704   \n",
       "Triglycerides                                    587                  378   \n",
       "Physical Activity Days Per Week                    4                    3   \n",
       "Sleep Hours Per Day                                4                    4   \n",
       "Country                                       France               Canada   \n",
       "Continent                                     Europe        North America   \n",
       "Hemisphere                       Northern Hemisphere  Northern Hemisphere   \n",
       "Heart Attack Risk                                  0                    0   \n",
       "\n",
       "                                                   4  \n",
       "Patient ID                                   GFO8847  \n",
       "Age                                               66  \n",
       "Sex                                             Male  \n",
       "Cholesterol                                      318  \n",
       "Blood Pressure                                 91/88  \n",
       "Heart Rate                                        93  \n",
       "Diabetes                                           1  \n",
       "Family History                                     1  \n",
       "Smoking                                            1  \n",
       "Obesity                                            1  \n",
       "Alcohol Consumption                                0  \n",
       "Exercise Hours Per Week                     5.804299  \n",
       "Diet                                       Unhealthy  \n",
       "Previous Heart Problems                            1  \n",
       "Medication Use                                     0  \n",
       "Stress Level                                       6  \n",
       "Sedentary Hours Per Day                     1.514821  \n",
       "Income                                        160555  \n",
       "BMI                                        21.809144  \n",
       "Triglycerides                                    231  \n",
       "Physical Activity Days Per Week                    1  \n",
       "Sleep Hours Per Day                                5  \n",
       "Country                                     Thailand  \n",
       "Continent                                       Asia  \n",
       "Hemisphere                       Northern Hemisphere  \n",
       "Heart Attack Risk                                  0  "
      ]
     },
     "execution_count": 537,
     "metadata": {},
     "output_type": "execute_result"
    }
   ],
   "source": [
    "import pandas as pd\n",
    "df=pd.read_csv('heart_attack_prediction_dataset.csv')\n",
    "df.head().T"
   ]
  },
  {
   "cell_type": "code",
   "execution_count": 538,
   "metadata": {},
   "outputs": [],
   "source": [
    "#Third party librasy\n",
    "import matplotlib.pyplot as plt\n",
    "import seaborn as sns\n",
    "from sklearn.preprocessing import StandardScaler\n",
    "from sklearn.model_selection import train_test_split\n",
    "from sklearn.tree import DecisionTreeClassifier\n",
    "from sklearn import metrics\n",
    "import warnings\n",
    "warnings.simplefilter(action='ignore', category=FutureWarning)\n",
    "\n",
    "# Local imports\n",
    "from helper_functionss import prediction_models"
   ]
  },
  {
   "cell_type": "code",
   "execution_count": 539,
   "metadata": {},
   "outputs": [
    {
     "data": {
      "text/plain": [
       "Index(['Patient ID', 'Age', 'Sex', 'Cholesterol', 'Blood Pressure',\n",
       "       'Heart Rate', 'Diabetes', 'Family History', 'Smoking', 'Obesity',\n",
       "       'Alcohol Consumption', 'Exercise Hours Per Week', 'Diet',\n",
       "       'Previous Heart Problems', 'Medication Use', 'Stress Level',\n",
       "       'Sedentary Hours Per Day', 'Income', 'BMI', 'Triglycerides',\n",
       "       'Physical Activity Days Per Week', 'Sleep Hours Per Day', 'Country',\n",
       "       'Continent', 'Hemisphere', 'Heart Attack Risk'],\n",
       "      dtype='object')"
      ]
     },
     "execution_count": 539,
     "metadata": {},
     "output_type": "execute_result"
    }
   ],
   "source": [
    "df.columns"
   ]
  },
  {
   "cell_type": "code",
   "execution_count": 540,
   "metadata": {},
   "outputs": [
    {
     "data": {
      "text/plain": [
       "(8763, 26)"
      ]
     },
     "execution_count": 540,
     "metadata": {},
     "output_type": "execute_result"
    }
   ],
   "source": [
    "df.shape"
   ]
  },
  {
   "cell_type": "markdown",
   "metadata": {},
   "source": [
    "## Checking Null values and duplicate values and outliers in the dataset "
   ]
  },
  {
   "cell_type": "code",
   "execution_count": 541,
   "metadata": {},
   "outputs": [
    {
     "data": {
      "text/plain": [
       "Patient ID                         0\n",
       "Age                                0\n",
       "Sex                                0\n",
       "Cholesterol                        0\n",
       "Blood Pressure                     0\n",
       "Heart Rate                         0\n",
       "Diabetes                           0\n",
       "Family History                     0\n",
       "Smoking                            0\n",
       "Obesity                            0\n",
       "Alcohol Consumption                0\n",
       "Exercise Hours Per Week            0\n",
       "Diet                               0\n",
       "Previous Heart Problems            0\n",
       "Medication Use                     0\n",
       "Stress Level                       0\n",
       "Sedentary Hours Per Day            0\n",
       "Income                             0\n",
       "BMI                                0\n",
       "Triglycerides                      0\n",
       "Physical Activity Days Per Week    0\n",
       "Sleep Hours Per Day                0\n",
       "Country                            0\n",
       "Continent                          0\n",
       "Hemisphere                         0\n",
       "Heart Attack Risk                  0\n",
       "dtype: int64"
      ]
     },
     "execution_count": 541,
     "metadata": {},
     "output_type": "execute_result"
    }
   ],
   "source": [
    "df.isna().sum()"
   ]
  },
  {
   "cell_type": "code",
   "execution_count": 542,
   "metadata": {},
   "outputs": [
    {
     "data": {
      "text/plain": [
       "0"
      ]
     },
     "execution_count": 542,
     "metadata": {},
     "output_type": "execute_result"
    }
   ],
   "source": [
    "df.duplicated().sum()"
   ]
  },
  {
   "cell_type": "code",
   "execution_count": 543,
   "metadata": {},
   "outputs": [
    {
     "data": {
      "image/png": "[encoded data removed]",
      "text/plain": [
       "<Figure size 360x180 with 1 Axes>"
      ]
     },
     "metadata": {
      "needs_background": "light"
     },
     "output_type": "display_data"
    },
    {
     "data": {
      "image/png": "[encoded data removed]",
      "text/plain": [
       "<Figure size 360x180 with 1 Axes>"
      ]
     },
     "metadata": {
      "needs_background": "light"
     },
     "output_type": "display_data"
    },
    {
     "data": {
      "image/png": "[encoded data removed]",
      "text/plain": [
       "<Figure size 360x180 with 1 Axes>"
      ]
     },
     "metadata": {
      "needs_background": "light"
     },
     "output_type": "display_data"
    },
    {
     "data": {
      "image/png": "[encoded data removed]",
      "text/plain": [
       "<Figure size 360x180 with 1 Axes>"
      ]
     },
     "metadata": {
      "needs_background": "light"
     },
     "output_type": "display_data"
    },
    {
     "data": {
      "image/png": "[encoded data removed]",
      "text/plain": [
       "<Figure size 360x180 with 1 Axes>"
      ]
     },
     "metadata": {
      "needs_background": "light"
     },
     "output_type": "display_data"
    }
   ],
   "source": [
    "# call the boxplot outlier function from the helper_functionss.py file for Checking Outliers\n",
    "from helper_functionss import boxplot_outliers\n",
    "boxplot_outliers(df, ['Age','Cholesterol',\n",
    "       'Heart Rate', 'Income', 'BMI'])"
   ]
  },
  {
   "cell_type": "markdown",
   "metadata": {},
   "source": [
    "# Exploratory Data Analysis"
   ]
  },
  {
   "cell_type": "code",
   "execution_count": 544,
   "metadata": {},
   "outputs": [
    {
     "data": {
      "text/html": [
       "<div>\n",
       "<style scoped>\n",
       "    .dataframe tbody tr th:only-of-type {\n",
       "        vertical-align: middle;\n",
       "    }\n",
       "\n",
       "    .dataframe tbody tr th {\n",
       "        vertical-align: top;\n",
       "    }\n",
       "\n",
       "    .dataframe thead th {\n",
       "        text-align: right;\n",
       "    }\n",
       "</style>\n",
       "<table border=\"1\" class=\"dataframe\">\n",
       "  <thead>\n",
       "    <tr style=\"text-align: right;\">\n",
       "      <th></th>\n",
       "      <th>index</th>\n",
       "      <th>Heart Attack Risk</th>\n",
       "      <th>percent</th>\n",
       "    </tr>\n",
       "  </thead>\n",
       "  <tbody>\n",
       "    <tr>\n",
       "      <th>0</th>\n",
       "      <td>0</td>\n",
       "      <td>5624</td>\n",
       "      <td>64.0</td>\n",
       "    </tr>\n",
       "    <tr>\n",
       "      <th>1</th>\n",
       "      <td>1</td>\n",
       "      <td>3139</td>\n",
       "      <td>36.0</td>\n",
       "    </tr>\n",
       "  </tbody>\n",
       "</table>\n",
       "</div>"
      ],
      "text/plain": [
       "   index  Heart Attack Risk  percent\n",
       "0      0               5624     64.0\n",
       "1      1               3139     36.0"
      ]
     },
     "execution_count": 544,
     "metadata": {},
     "output_type": "execute_result"
    }
   ],
   "source": [
    "# Creating percent of each Heart Attack Risk\n",
    "classes = df['Heart Attack Risk'].value_counts().reset_index()\n",
    "classes['percent'] =round(classes['Heart Attack Risk'] / classes['Heart Attack Risk'].sum() * 100)\n",
    "classes"
   ]
  },
  {
   "cell_type": "code",
   "execution_count": 545,
   "metadata": {},
   "outputs": [
    {
     "data": {
      "application/vnd.plotly.v1+json": {
       "config": {
        "plotlyServerURL": "https://plot.ly"
       },
       "data": [
        {
         "alignmentgroup": "True",
         "hovertemplate": "Heart Attack Risk=%{marker.color}<br>Number of observations in the sample=%{y}<extra></extra>",
         "legendgroup": "",
         "marker": {
          "color": [
           0,
           1
          ],
          "coloraxis": "coloraxis",
          "line": {
           "color": "black",
           "width": 2
          },
          "pattern": {
           "shape": ""
          }
         },
         "name": "",
         "offsetgroup": "",
         "orientation": "v",
         "showlegend": false,
         "textposition": "auto",
         "type": "bar",
         "x": [
          0,
          1
         ],
         "xaxis": "x",
         "y": [
          5624,
          3139
         ],
         "yaxis": "y"
        }
       ],
       "layout": {
        "barmode": "relative",
        "coloraxis": {
         "colorbar": {
          "title": {
           "text": "Heart Attack Risk"
          }
         },
         "colorscale": [
          [
           0,
           "#440154"
          ],
          [
           0.1111111111111111,
           "#482878"
          ],
          [
           0.2222222222222222,
           "#3e4989"
          ],
          [
           0.3333333333333333,
           "#31688e"
          ],
          [
           0.4444444444444444,
           "#26828e"
          ],
          [
           0.5555555555555556,
           "#1f9e89"
          ],
          [
           0.6666666666666666,
           "#35b779"
          ],
          [
           0.7777777777777778,
           "#6ece58"
          ],
          [
           0.8888888888888888,
           "#b5de2b"
          ],
          [
           1,
           "#fde725"
          ]
         ]
        },
        "height": 400,
        "legend": {
         "tracegroupgap": 0
        },
        "template": {
         "data": {
          "bar": [
           {
            "error_x": {
             "color": "#2a3f5f"
            },
            "error_y": {
             "color": "#2a3f5f"
            },
            "marker": {
             "line": {
              "color": "#E5ECF6",
              "width": 0.5
             },
             "pattern": {
              "fillmode": "overlay",
              "size": 10,
              "solidity": 0.2
             }
            },
            "type": "bar"
           }
          ],
          "barpolar": [
           {
            "marker": {
             "line": {
              "color": "#E5ECF6",
              "width": 0.5
             },
             "pattern": {
              "fillmode": "overlay",
              "size": 10,
              "solidity": 0.2
             }
            },
            "type": "barpolar"
           }
          ],
          "carpet": [
           {
            "aaxis": {
             "endlinecolor": "#2a3f5f",
             "gridcolor": "white",
             "linecolor": "white",
             "minorgridcolor": "white",
             "startlinecolor": "#2a3f5f"
            },
            "baxis": {
             "endlinecolor": "#2a3f5f",
             "gridcolor": "white",
             "linecolor": "white",
             "minorgridcolor": "white",
             "startlinecolor": "#2a3f5f"
            },
            "type": "carpet"
           }
          ],
          "choropleth": [
           {
            "colorbar": {
             "outlinewidth": 0,
             "ticks": ""
            },
            "type": "choropleth"
           }
          ],
          "contour": [
           {
            "colorbar": {
             "outlinewidth": 0,
             "ticks": ""
            },
            "colorscale": [
             [
              0,
              "#0d0887"
             ],
             [
              0.1111111111111111,
              "#46039f"
             ],
             [
              0.2222222222222222,
              "#7201a8"
             ],
             [
              0.3333333333333333,
              "#9c179e"
             ],
             [
              0.4444444444444444,
              "#bd3786"
             ],
             [
              0.5555555555555556,
              "#d8576b"
             ],
             [
              0.6666666666666666,
              "#ed7953"
             ],
             [
              0.7777777777777778,
              "#fb9f3a"
             ],
             [
              0.8888888888888888,
              "#fdca26"
             ],
             [
              1,
              "#f0f921"
             ]
            ],
            "type": "contour"
           }
          ],
          "contourcarpet": [
           {
            "colorbar": {
             "outlinewidth": 0,
             "ticks": ""
            },
            "type": "contourcarpet"
           }
          ],
          "heatmap": [
           {
            "colorbar": {
             "outlinewidth": 0,
             "ticks": ""
            },
            "colorscale": [
             [
              0,
              "#0d0887"
             ],
             [
              0.1111111111111111,
              "#46039f"
             ],
             [
              0.2222222222222222,
              "#7201a8"
             ],
             [
              0.3333333333333333,
              "#9c179e"
             ],
             [
              0.4444444444444444,
              "#bd3786"
             ],
             [
              0.5555555555555556,
              "#d8576b"
             ],
             [
              0.6666666666666666,
              "#ed7953"
             ],
             [
              0.7777777777777778,
              "#fb9f3a"
             ],
             [
              0.8888888888888888,
              "#fdca26"
             ],
             [
              1,
              "#f0f921"
             ]
            ],
            "type": "heatmap"
           }
          ],
          "heatmapgl": [
           {
            "colorbar": {
             "outlinewidth": 0,
             "ticks": ""
            },
            "colorscale": [
             [
              0,
              "#0d0887"
             ],
             [
              0.1111111111111111,
              "#46039f"
             ],
             [
              0.2222222222222222,
              "#7201a8"
             ],
             [
              0.3333333333333333,
              "#9c179e"
             ],
             [
              0.4444444444444444,
              "#bd3786"
             ],
             [
              0.5555555555555556,
              "#d8576b"
             ],
             [
              0.6666666666666666,
              "#ed7953"
             ],
             [
              0.7777777777777778,
              "#fb9f3a"
             ],
             [
              0.8888888888888888,
              "#fdca26"
             ],
             [
              1,
              "#f0f921"
             ]
            ],
            "type": "heatmapgl"
           }
          ],
          "histogram": [
           {
            "marker": {
             "pattern": {
              "fillmode": "overlay",
              "size": 10,
              "solidity": 0.2
             }
            },
            "type": "histogram"
           }
          ],
          "histogram2d": [
           {
            "colorbar": {
             "outlinewidth": 0,
             "ticks": ""
            },
            "colorscale": [
             [
              0,
              "#0d0887"
             ],
             [
              0.1111111111111111,
              "#46039f"
             ],
             [
              0.2222222222222222,
              "#7201a8"
             ],
             [
              0.3333333333333333,
              "#9c179e"
             ],
             [
              0.4444444444444444,
              "#bd3786"
             ],
             [
              0.5555555555555556,
              "#d8576b"
             ],
             [
              0.6666666666666666,
              "#ed7953"
             ],
             [
              0.7777777777777778,
              "#fb9f3a"
             ],
             [
              0.8888888888888888,
              "#fdca26"
             ],
             [
              1,
              "#f0f921"
             ]
            ],
            "type": "histogram2d"
           }
          ],
          "histogram2dcontour": [
           {
            "colorbar": {
             "outlinewidth": 0,
             "ticks": ""
            },
            "colorscale": [
             [
              0,
              "#0d0887"
             ],
             [
              0.1111111111111111,
              "#46039f"
             ],
             [
              0.2222222222222222,
              "#7201a8"
             ],
             [
              0.3333333333333333,
              "#9c179e"
             ],
             [
              0.4444444444444444,
              "#bd3786"
             ],
             [
              0.5555555555555556,
              "#d8576b"
             ],
             [
              0.6666666666666666,
              "#ed7953"
             ],
             [
              0.7777777777777778,
              "#fb9f3a"
             ],
             [
              0.8888888888888888,
              "#fdca26"
             ],
             [
              1,
              "#f0f921"
             ]
            ],
            "type": "histogram2dcontour"
           }
          ],
          "mesh3d": [
           {
            "colorbar": {
             "outlinewidth": 0,
             "ticks": ""
            },
            "type": "mesh3d"
           }
          ],
          "parcoords": [
           {
            "line": {
             "colorbar": {
              "outlinewidth": 0,
              "ticks": ""
             }
            },
            "type": "parcoords"
           }
          ],
          "pie": [
           {
            "automargin": true,
            "type": "pie"
           }
          ],
          "scatter": [
           {
            "marker": {
             "colorbar": {
              "outlinewidth": 0,
              "ticks": ""
             }
            },
            "type": "scatter"
           }
          ],
          "scatter3d": [
           {
            "line": {
             "colorbar": {
              "outlinewidth": 0,
              "ticks": ""
             }
            },
            "marker": {
             "colorbar": {
              "outlinewidth": 0,
              "ticks": ""
             }
            },
            "type": "scatter3d"
           }
          ],
          "scattercarpet": [
           {
            "marker": {
             "colorbar": {
              "outlinewidth": 0,
              "ticks": ""
             }
            },
            "type": "scattercarpet"
           }
          ],
          "scattergeo": [
           {
            "marker": {
             "colorbar": {
              "outlinewidth": 0,
              "ticks": ""
             }
            },
            "type": "scattergeo"
           }
          ],
          "scattergl": [
           {
            "marker": {
             "colorbar": {
              "outlinewidth": 0,
              "ticks": ""
             }
            },
            "type": "scattergl"
           }
          ],
          "scattermapbox": [
           {
            "marker": {
             "colorbar": {
              "outlinewidth": 0,
              "ticks": ""
             }
            },
            "type": "scattermapbox"
           }
          ],
          "scatterpolar": [
           {
            "marker": {
             "colorbar": {
              "outlinewidth": 0,
              "ticks": ""
             }
            },
            "type": "scatterpolar"
           }
          ],
          "scatterpolargl": [
           {
            "marker": {
             "colorbar": {
              "outlinewidth": 0,
              "ticks": ""
             }
            },
            "type": "scatterpolargl"
           }
          ],
          "scatterternary": [
           {
            "marker": {
             "colorbar": {
              "outlinewidth": 0,
              "ticks": ""
             }
            },
            "type": "scatterternary"
           }
          ],
          "surface": [
           {
            "colorbar": {
             "outlinewidth": 0,
             "ticks": ""
            },
            "colorscale": [
             [
              0,
              "#0d0887"
             ],
             [
              0.1111111111111111,
              "#46039f"
             ],
             [
              0.2222222222222222,
              "#7201a8"
             ],
             [
              0.3333333333333333,
              "#9c179e"
             ],
             [
              0.4444444444444444,
              "#bd3786"
             ],
             [
              0.5555555555555556,
              "#d8576b"
             ],
             [
              0.6666666666666666,
              "#ed7953"
             ],
             [
              0.7777777777777778,
              "#fb9f3a"
             ],
             [
              0.8888888888888888,
              "#fdca26"
             ],
             [
              1,
              "#f0f921"
             ]
            ],
            "type": "surface"
           }
          ],
          "table": [
           {
            "cells": {
             "fill": {
              "color": "#EBF0F8"
             },
             "line": {
              "color": "white"
             }
            },
            "header": {
             "fill": {
              "color": "#C8D4E3"
             },
             "line": {
              "color": "white"
             }
            },
            "type": "table"
           }
          ]
         },
         "layout": {
          "annotationdefaults": {
           "arrowcolor": "#2a3f5f",
           "arrowhead": 0,
           "arrowwidth": 1
          },
          "autotypenumbers": "strict",
          "coloraxis": {
           "colorbar": {
            "outlinewidth": 0,
            "ticks": ""
           }
          },
          "colorscale": {
           "diverging": [
            [
             0,
             "#8e0152"
            ],
            [
             0.1,
             "#c51b7d"
            ],
            [
             0.2,
             "#de77ae"
            ],
            [
             0.3,
             "#f1b6da"
            ],
            [
             0.4,
             "#fde0ef"
            ],
            [
             0.5,
             "#f7f7f7"
            ],
            [
             0.6,
             "#e6f5d0"
            ],
            [
             0.7,
             "#b8e186"
            ],
            [
             0.8,
             "#7fbc41"
            ],
            [
             0.9,
             "#4d9221"
            ],
            [
             1,
             "#276419"
            ]
           ],
           "sequential": [
            [
             0,
             "#0d0887"
            ],
            [
             0.1111111111111111,
             "#46039f"
            ],
            [
             0.2222222222222222,
             "#7201a8"
            ],
            [
             0.3333333333333333,
             "#9c179e"
            ],
            [
             0.4444444444444444,
             "#bd3786"
            ],
            [
             0.5555555555555556,
             "#d8576b"
            ],
            [
             0.6666666666666666,
             "#ed7953"
            ],
            [
             0.7777777777777778,
             "#fb9f3a"
            ],
            [
             0.8888888888888888,
             "#fdca26"
            ],
            [
             1,
             "#f0f921"
            ]
           ],
           "sequentialminus": [
            [
             0,
             "#0d0887"
            ],
            [
             0.1111111111111111,
             "#46039f"
            ],
            [
             0.2222222222222222,
             "#7201a8"
            ],
            [
             0.3333333333333333,
             "#9c179e"
            ],
            [
             0.4444444444444444,
             "#bd3786"
            ],
            [
             0.5555555555555556,
             "#d8576b"
            ],
            [
             0.6666666666666666,
             "#ed7953"
            ],
            [
             0.7777777777777778,
             "#fb9f3a"
            ],
            [
             0.8888888888888888,
             "#fdca26"
            ],
            [
             1,
             "#f0f921"
            ]
           ]
          },
          "colorway": [
           "#636efa",
           "#EF553B",
           "#00cc96",
           "#ab63fa",
           "#FFA15A",
           "#19d3f3",
           "#FF6692",
           "#B6E880",
           "#FF97FF",
           "#FECB52"
          ],
          "font": {
           "color": "#2a3f5f"
          },
          "geo": {
           "bgcolor": "white",
           "lakecolor": "white",
           "landcolor": "#E5ECF6",
           "showlakes": true,
           "showland": true,
           "subunitcolor": "white"
          },
          "hoverlabel": {
           "align": "left"
          },
          "hovermode": "closest",
          "mapbox": {
           "style": "light"
          },
          "paper_bgcolor": "white",
          "plot_bgcolor": "#E5ECF6",
          "polar": {
           "angularaxis": {
            "gridcolor": "white",
            "linecolor": "white",
            "ticks": ""
           },
           "bgcolor": "#E5ECF6",
           "radialaxis": {
            "gridcolor": "white",
            "linecolor": "white",
            "ticks": ""
           }
          },
          "scene": {
           "xaxis": {
            "backgroundcolor": "#E5ECF6",
            "gridcolor": "white",
            "gridwidth": 2,
            "linecolor": "white",
            "showbackground": true,
            "ticks": "",
            "zerolinecolor": "white"
           },
           "yaxis": {
            "backgroundcolor": "#E5ECF6",
            "gridcolor": "white",
            "gridwidth": 2,
            "linecolor": "white",
            "showbackground": true,
            "ticks": "",
            "zerolinecolor": "white"
           },
           "zaxis": {
            "backgroundcolor": "#E5ECF6",
            "gridcolor": "white",
            "gridwidth": 2,
            "linecolor": "white",
            "showbackground": true,
            "ticks": "",
            "zerolinecolor": "white"
           }
          },
          "shapedefaults": {
           "line": {
            "color": "#2a3f5f"
           }
          },
          "ternary": {
           "aaxis": {
            "gridcolor": "white",
            "linecolor": "white",
            "ticks": ""
           },
           "baxis": {
            "gridcolor": "white",
            "linecolor": "white",
            "ticks": ""
           },
           "bgcolor": "#E5ECF6",
           "caxis": {
            "gridcolor": "white",
            "linecolor": "white",
            "ticks": ""
           }
          },
          "title": {
           "x": 0.05
          },
          "xaxis": {
           "automargin": true,
           "gridcolor": "white",
           "linecolor": "white",
           "ticks": "",
           "title": {
            "standoff": 15
           },
           "zerolinecolor": "white",
           "zerolinewidth": 2
          },
          "yaxis": {
           "automargin": true,
           "gridcolor": "white",
           "linecolor": "white",
           "ticks": "",
           "title": {
            "standoff": 15
           },
           "zerolinecolor": "white",
           "zerolinewidth": 2
          }
         }
        },
        "title": {
         "text": "Heart Attack Risk balance",
         "x": 0.45
        },
        "width": 600,
        "xaxis": {
         "anchor": "y",
         "autorange": true,
         "domain": [
          0,
          1
         ],
         "range": [
          -0.5,
          1.5
         ],
         "title": {
          "text": "Heart Attack Risk"
         },
         "type": "linear"
        },
        "yaxis": {
         "anchor": "x",
         "autorange": true,
         "domain": [
          0,
          1
         ],
         "range": [
          0,
          5920
         ],
         "title": {
          "text": "Number of observations in the sample"
         },
         "type": "linear"
        }
       }
      },
      "image/png": "[encoded data removed]",
      "text/html": [
       "<div>                            <div id=\"2afc635b-838e-43cb-ab12-a44b607530fb\" class=\"plotly-graph-div\" style=\"height:400px; width:600px;\"></div>            <script type=\"text/javascript\">                require([\"plotly\"], function(Plotly) {                    window.PLOTLYENV=window.PLOTLYENV || {};                                    if (document.getElementById(\"2afc635b-838e-43cb-ab12-a44b607530fb\")) {                    Plotly.newPlot(                        \"2afc635b-838e-43cb-ab12-a44b607530fb\",                        [{\"alignmentgroup\":\"True\",\"hovertemplate\":\"Heart Attack Risk=%{marker.color}<br>Number of observations in the sample=%{y}<extra></extra>\",\"legendgroup\":\"\",\"marker\":{\"color\":[0,1],\"coloraxis\":\"coloraxis\",\"line\":{\"color\":\"black\",\"width\":2},\"pattern\":{\"shape\":\"\"}},\"name\":\"\",\"offsetgroup\":\"\",\"orientation\":\"v\",\"showlegend\":false,\"textposition\":\"auto\",\"type\":\"bar\",\"x\":[0,1],\"xaxis\":\"x\",\"y\":[5624,3139],\"yaxis\":\"y\"}],                        {\"barmode\":\"relative\",\"coloraxis\":{\"colorbar\":{\"title\":{\"text\":\"Heart Attack Risk\"}},\"colorscale\":[[0.0,\"#440154\"],[0.1111111111111111,\"#482878\"],[0.2222222222222222,\"#3e4989\"],[0.3333333333333333,\"#31688e\"],[0.4444444444444444,\"#26828e\"],[0.5555555555555556,\"#1f9e89\"],[0.6666666666666666,\"#35b779\"],[0.7777777777777778,\"#6ece58\"],[0.8888888888888888,\"#b5de2b\"],[1.0,\"#fde725\"]]},\"height\":400,\"legend\":{\"tracegroupgap\":0},\"template\":{\"data\":{\"bar\":[{\"error_x\":{\"color\":\"#2a3f5f\"},\"error_y\":{\"color\":\"#2a3f5f\"},\"marker\":{\"line\":{\"color\":\"#E5ECF6\",\"width\":0.5},\"pattern\":{\"fillmode\":\"overlay\",\"size\":10,\"solidity\":0.2}},\"type\":\"bar\"}],\"barpolar\":[{\"marker\":{\"line\":{\"color\":\"#E5ECF6\",\"width\":0.5},\"pattern\":{\"fillmode\":\"overlay\",\"size\":10,\"solidity\":0.2}},\"type\":\"barpolar\"}],\"carpet\":[{\"aaxis\":{\"endlinecolor\":\"#2a3f5f\",\"gridcolor\":\"white\",\"linecolor\":\"white\",\"minorgridcolor\":\"white\",\"startlinecolor\":\"#2a3f5f\"},\"baxis\":{\"endlinecolor\":\"#2a3f5f\",\"gridcolor\":\"white\",\"linecolor\":\"white\",\"minorgridcolor\":\"white\",\"startlinecolor\":\"#2a3f5f\"},\"type\":\"carpet\"}],\"choropleth\":[{\"colorbar\":{\"outlinewidth\":0,\"ticks\":\"\"},\"type\":\"choropleth\"}],\"contour\":[{\"colorbar\":{\"outlinewidth\":0,\"ticks\":\"\"},\"colorscale\":[[0.0,\"#0d0887\"],[0.1111111111111111,\"#46039f\"],[0.2222222222222222,\"#7201a8\"],[0.3333333333333333,\"#9c179e\"],[0.4444444444444444,\"#bd3786\"],[0.5555555555555556,\"#d8576b\"],[0.6666666666666666,\"#ed7953\"],[0.7777777777777778,\"#fb9f3a\"],[0.8888888888888888,\"#fdca26\"],[1.0,\"#f0f921\"]],\"type\":\"contour\"}],\"contourcarpet\":[{\"colorbar\":{\"outlinewidth\":0,\"ticks\":\"\"},\"type\":\"contourcarpet\"}],\"heatmap\":[{\"colorbar\":{\"outlinewidth\":0,\"ticks\":\"\"},\"colorscale\":[[0.0,\"#0d0887\"],[0.1111111111111111,\"#46039f\"],[0.2222222222222222,\"#7201a8\"],[0.3333333333333333,\"#9c179e\"],[0.4444444444444444,\"#bd3786\"],[0.5555555555555556,\"#d8576b\"],[0.6666666666666666,\"#ed7953\"],[0.7777777777777778,\"#fb9f3a\"],[0.8888888888888888,\"#fdca26\"],[1.0,\"#f0f921\"]],\"type\":\"heatmap\"}],\"heatmapgl\":[{\"colorbar\":{\"outlinewidth\":0,\"ticks\":\"\"},\"colorscale\":[[0.0,\"#0d0887\"],[0.1111111111111111,\"#46039f\"],[0.2222222222222222,\"#7201a8\"],[0.3333333333333333,\"#9c179e\"],[0.4444444444444444,\"#bd3786\"],[0.5555555555555556,\"#d8576b\"],[0.6666666666666666,\"#ed7953\"],[0.7777777777777778,\"#fb9f3a\"],[0.8888888888888888,\"#fdca26\"],[1.0,\"#f0f921\"]],\"type\":\"heatmapgl\"}],\"histogram\":[{\"marker\":{\"pattern\":{\"fillmode\":\"overlay\",\"size\":10,\"solidity\":0.2}},\"type\":\"histogram\"}],\"histogram2d\":[{\"colorbar\":{\"outlinewidth\":0,\"ticks\":\"\"},\"colorscale\":[[0.0,\"#0d0887\"],[0.1111111111111111,\"#46039f\"],[0.2222222222222222,\"#7201a8\"],[0.3333333333333333,\"#9c179e\"],[0.4444444444444444,\"#bd3786\"],[0.5555555555555556,\"#d8576b\"],[0.6666666666666666,\"#ed7953\"],[0.7777777777777778,\"#fb9f3a\"],[0.8888888888888888,\"#fdca26\"],[1.0,\"#f0f921\"]],\"type\":\"histogram2d\"}],\"histogram2dcontour\":[{\"colorbar\":{\"outlinewidth\":0,\"ticks\":\"\"},\"colorscale\":[[0.0,\"#0d0887\"],[0.1111111111111111,\"#46039f\"],[0.2222222222222222,\"#7201a8\"],[0.3333333333333333,\"#9c179e\"],[0.4444444444444444,\"#bd3786\"],[0.5555555555555556,\"#d8576b\"],[0.6666666666666666,\"#ed7953\"],[0.7777777777777778,\"#fb9f3a\"],[0.8888888888888888,\"#fdca26\"],[1.0,\"#f0f921\"]],\"type\":\"histogram2dcontour\"}],\"mesh3d\":[{\"colorbar\":{\"outlinewidth\":0,\"ticks\":\"\"},\"type\":\"mesh3d\"}],\"parcoords\":[{\"line\":{\"colorbar\":{\"outlinewidth\":0,\"ticks\":\"\"}},\"type\":\"parcoords\"}],\"pie\":[{\"automargin\":true,\"type\":\"pie\"}],\"scatter\":[{\"marker\":{\"colorbar\":{\"outlinewidth\":0,\"ticks\":\"\"}},\"type\":\"scatter\"}],\"scatter3d\":[{\"line\":{\"colorbar\":{\"outlinewidth\":0,\"ticks\":\"\"}},\"marker\":{\"colorbar\":{\"outlinewidth\":0,\"ticks\":\"\"}},\"type\":\"scatter3d\"}],\"scattercarpet\":[{\"marker\":{\"colorbar\":{\"outlinewidth\":0,\"ticks\":\"\"}},\"type\":\"scattercarpet\"}],\"scattergeo\":[{\"marker\":{\"colorbar\":{\"outlinewidth\":0,\"ticks\":\"\"}},\"type\":\"scattergeo\"}],\"scattergl\":[{\"marker\":{\"colorbar\":{\"outlinewidth\":0,\"ticks\":\"\"}},\"type\":\"scattergl\"}],\"scattermapbox\":[{\"marker\":{\"colorbar\":{\"outlinewidth\":0,\"ticks\":\"\"}},\"type\":\"scattermapbox\"}],\"scatterpolar\":[{\"marker\":{\"colorbar\":{\"outlinewidth\":0,\"ticks\":\"\"}},\"type\":\"scatterpolar\"}],\"scatterpolargl\":[{\"marker\":{\"colorbar\":{\"outlinewidth\":0,\"ticks\":\"\"}},\"type\":\"scatterpolargl\"}],\"scatterternary\":[{\"marker\":{\"colorbar\":{\"outlinewidth\":0,\"ticks\":\"\"}},\"type\":\"scatterternary\"}],\"surface\":[{\"colorbar\":{\"outlinewidth\":0,\"ticks\":\"\"},\"colorscale\":[[0.0,\"#0d0887\"],[0.1111111111111111,\"#46039f\"],[0.2222222222222222,\"#7201a8\"],[0.3333333333333333,\"#9c179e\"],[0.4444444444444444,\"#bd3786\"],[0.5555555555555556,\"#d8576b\"],[0.6666666666666666,\"#ed7953\"],[0.7777777777777778,\"#fb9f3a\"],[0.8888888888888888,\"#fdca26\"],[1.0,\"#f0f921\"]],\"type\":\"surface\"}],\"table\":[{\"cells\":{\"fill\":{\"color\":\"#EBF0F8\"},\"line\":{\"color\":\"white\"}},\"header\":{\"fill\":{\"color\":\"#C8D4E3\"},\"line\":{\"color\":\"white\"}},\"type\":\"table\"}]},\"layout\":{\"annotationdefaults\":{\"arrowcolor\":\"#2a3f5f\",\"arrowhead\":0,\"arrowwidth\":1},\"autotypenumbers\":\"strict\",\"coloraxis\":{\"colorbar\":{\"outlinewidth\":0,\"ticks\":\"\"}},\"colorscale\":{\"diverging\":[[0,\"#8e0152\"],[0.1,\"#c51b7d\"],[0.2,\"#de77ae\"],[0.3,\"#f1b6da\"],[0.4,\"#fde0ef\"],[0.5,\"#f7f7f7\"],[0.6,\"#e6f5d0\"],[0.7,\"#b8e186\"],[0.8,\"#7fbc41\"],[0.9,\"#4d9221\"],[1,\"#276419\"]],\"sequential\":[[0.0,\"#0d0887\"],[0.1111111111111111,\"#46039f\"],[0.2222222222222222,\"#7201a8\"],[0.3333333333333333,\"#9c179e\"],[0.4444444444444444,\"#bd3786\"],[0.5555555555555556,\"#d8576b\"],[0.6666666666666666,\"#ed7953\"],[0.7777777777777778,\"#fb9f3a\"],[0.8888888888888888,\"#fdca26\"],[1.0,\"#f0f921\"]],\"sequentialminus\":[[0.0,\"#0d0887\"],[0.1111111111111111,\"#46039f\"],[0.2222222222222222,\"#7201a8\"],[0.3333333333333333,\"#9c179e\"],[0.4444444444444444,\"#bd3786\"],[0.5555555555555556,\"#d8576b\"],[0.6666666666666666,\"#ed7953\"],[0.7777777777777778,\"#fb9f3a\"],[0.8888888888888888,\"#fdca26\"],[1.0,\"#f0f921\"]]},\"colorway\":[\"#636efa\",\"#EF553B\",\"#00cc96\",\"#ab63fa\",\"#FFA15A\",\"#19d3f3\",\"#FF6692\",\"#B6E880\",\"#FF97FF\",\"#FECB52\"],\"font\":{\"color\":\"#2a3f5f\"},\"geo\":{\"bgcolor\":\"white\",\"lakecolor\":\"white\",\"landcolor\":\"#E5ECF6\",\"showlakes\":true,\"showland\":true,\"subunitcolor\":\"white\"},\"hoverlabel\":{\"align\":\"left\"},\"hovermode\":\"closest\",\"mapbox\":{\"style\":\"light\"},\"paper_bgcolor\":\"white\",\"plot_bgcolor\":\"#E5ECF6\",\"polar\":{\"angularaxis\":{\"gridcolor\":\"white\",\"linecolor\":\"white\",\"ticks\":\"\"},\"bgcolor\":\"#E5ECF6\",\"radialaxis\":{\"gridcolor\":\"white\",\"linecolor\":\"white\",\"ticks\":\"\"}},\"scene\":{\"xaxis\":{\"backgroundcolor\":\"#E5ECF6\",\"gridcolor\":\"white\",\"gridwidth\":2,\"linecolor\":\"white\",\"showbackground\":true,\"ticks\":\"\",\"zerolinecolor\":\"white\"},\"yaxis\":{\"backgroundcolor\":\"#E5ECF6\",\"gridcolor\":\"white\",\"gridwidth\":2,\"linecolor\":\"white\",\"showbackground\":true,\"ticks\":\"\",\"zerolinecolor\":\"white\"},\"zaxis\":{\"backgroundcolor\":\"#E5ECF6\",\"gridcolor\":\"white\",\"gridwidth\":2,\"linecolor\":\"white\",\"showbackground\":true,\"ticks\":\"\",\"zerolinecolor\":\"white\"}},\"shapedefaults\":{\"line\":{\"color\":\"#2a3f5f\"}},\"ternary\":{\"aaxis\":{\"gridcolor\":\"white\",\"linecolor\":\"white\",\"ticks\":\"\"},\"baxis\":{\"gridcolor\":\"white\",\"linecolor\":\"white\",\"ticks\":\"\"},\"bgcolor\":\"#E5ECF6\",\"caxis\":{\"gridcolor\":\"white\",\"linecolor\":\"white\",\"ticks\":\"\"}},\"title\":{\"x\":0.05},\"xaxis\":{\"automargin\":true,\"gridcolor\":\"white\",\"linecolor\":\"white\",\"ticks\":\"\",\"title\":{\"standoff\":15},\"zerolinecolor\":\"white\",\"zerolinewidth\":2},\"yaxis\":{\"automargin\":true,\"gridcolor\":\"white\",\"linecolor\":\"white\",\"ticks\":\"\",\"title\":{\"standoff\":15},\"zerolinecolor\":\"white\",\"zerolinewidth\":2}}},\"title\":{\"text\":\"Heart Attack Risk balance\",\"x\":0.45},\"width\":600,\"xaxis\":{\"anchor\":\"y\",\"domain\":[0.0,1.0],\"title\":{\"text\":\"Heart Attack Risk\"}},\"yaxis\":{\"anchor\":\"x\",\"domain\":[0.0,1.0],\"title\":{\"text\":\"Number of observations in the sample\"}}},                        {\"responsive\": true}                    ).then(function(){\n",
       "                            \n",
       "var gd = document.getElementById('2afc635b-838e-43cb-ab12-a44b607530fb');\n",
       "var x = new MutationObserver(function (mutations, observer) {{\n",
       "        var display = window.getComputedStyle(gd).display;\n",
       "        if (!display || display === 'none') {{\n",
       "            console.log([gd, 'removed!']);\n",
       "            Plotly.purge(gd);\n",
       "            observer.disconnect();\n",
       "        }}\n",
       "}});\n",
       "\n",
       "// Listen for the removal of the full notebook cells\n",
       "var notebookContainer = gd.closest('#notebook-container');\n",
       "if (notebookContainer) {{\n",
       "    x.observe(notebookContainer, {childList: true});\n",
       "}}\n",
       "\n",
       "// Listen for the clearing of the current output cell\n",
       "var outputEl = gd.closest('.output');\n",
       "if (outputEl) {{\n",
       "    x.observe(outputEl, {childList: true});\n",
       "}}\n",
       "\n",
       "                        })                };                });            </script>        </div>"
      ]
     },
     "metadata": {},
     "output_type": "display_data"
    }
   ],
   "source": [
    "import plotly.express as px\n",
    "\n",
    "\n",
    "fig = px.bar(classes,\n",
    "             x='index',\n",
    "             y='Heart Attack Risk',\n",
    "             color='index',\n",
    "             title='Heart Attack Risk balance',\n",
    "             labels={'Heart Attack Risk' : 'Number of observations in the sample','index':'Heart Attack Risk'},\n",
    "             color_continuous_scale = 'viridis',\n",
    "             height=400,\n",
    "             width=600             \n",
    "            )\n",
    "\n",
    "fig.update_traces(marker_line_color = 'black',\n",
    "                  marker_line_width = 2)\n",
    "fig.update_layout(title_x=0.45)\n",
    "fig.show()"
   ]
  },
  {
   "cell_type": "code",
   "execution_count": 546,
   "metadata": {},
   "outputs": [],
   "source": [
    "# Categorical Data\n",
    "categorical_data = df[['Sex','Diet','Continent','Country','Hemisphere']]"
   ]
  },
  {
   "cell_type": "code",
   "execution_count": 547,
   "metadata": {},
   "outputs": [
    {
     "data": {
      "image/png": "[encoded data removed]",
      "text/plain": [
       "<Figure size 576x504 with 1 Axes>"
      ]
     },
     "metadata": {
      "needs_background": "light"
     },
     "output_type": "display_data"
    },
    {
     "data": {
      "image/png": "[encoded data removed]",
      "text/plain": [
       "<Figure size 432x288 with 1 Axes>"
      ]
     },
     "metadata": {
      "needs_background": "light"
     },
     "output_type": "display_data"
    },
    {
     "data": {
      "image/png": "[encoded data removed]",
      "text/plain": [
       "<Figure size 432x288 with 1 Axes>"
      ]
     },
     "metadata": {
      "needs_background": "light"
     },
     "output_type": "display_data"
    },
    {
     "data": {
      "image/png": "[encoded data removed]",
      "text/plain": [
       "<Figure size 432x288 with 1 Axes>"
      ]
     },
     "metadata": {
      "needs_background": "light"
     },
     "output_type": "display_data"
    },
    {
     "data": {
      "image/png": "[encoded data removed]",
      "text/plain": [
       "<Figure size 432x288 with 1 Axes>"
      ]
     },
     "metadata": {
      "needs_background": "light"
     },
     "output_type": "display_data"
    }
   ],
   "source": [
    "plt.figure(figsize=(8, 7))\n",
    "\n",
    "# Graphs for categorical data\n",
    "for col in categorical_data.columns:\n",
    "    ctg_num = categorical_data[col].value_counts()\n",
    "    chart = sns.barplot(x = ctg_num.index, y = ctg_num)\n",
    "    for patch in chart.patches:\n",
    "        chart.annotate(format(patch.get_height(), '.0f'), \n",
    "                     (patch.get_x() + patch.get_width() / 2., patch.get_height()), \n",
    "                     ha = 'center', va = 'center', \n",
    "                     xytext = (0, 10), \n",
    "                     textcoords = 'offset points',\n",
    "                     fontsize=10)\n",
    "        \n",
    "    chart.set_xticklabels(chart.get_xticklabels(), rotation=90)\n",
    "    plt.show() "
   ]
  },
  {
   "cell_type": "code",
   "execution_count": 548,
   "metadata": {},
   "outputs": [
    {
     "data": {
      "text/html": [
       "<div>\n",
       "<style scoped>\n",
       "    .dataframe tbody tr th:only-of-type {\n",
       "        vertical-align: middle;\n",
       "    }\n",
       "\n",
       "    .dataframe tbody tr th {\n",
       "        vertical-align: top;\n",
       "    }\n",
       "\n",
       "    .dataframe thead th {\n",
       "        text-align: right;\n",
       "    }\n",
       "</style>\n",
       "<table border=\"1\" class=\"dataframe\">\n",
       "  <thead>\n",
       "    <tr style=\"text-align: right;\">\n",
       "      <th></th>\n",
       "      <th>Age</th>\n",
       "      <th>Cholesterol</th>\n",
       "      <th>Heart Rate</th>\n",
       "      <th>Diabetes</th>\n",
       "      <th>Family History</th>\n",
       "      <th>Smoking</th>\n",
       "      <th>Obesity</th>\n",
       "      <th>Alcohol Consumption</th>\n",
       "      <th>Exercise Hours Per Week</th>\n",
       "      <th>Previous Heart Problems</th>\n",
       "      <th>Medication Use</th>\n",
       "      <th>Stress Level</th>\n",
       "      <th>Sedentary Hours Per Day</th>\n",
       "      <th>Income</th>\n",
       "      <th>BMI</th>\n",
       "      <th>Triglycerides</th>\n",
       "      <th>Physical Activity Days Per Week</th>\n",
       "      <th>Sleep Hours Per Day</th>\n",
       "      <th>Heart Attack Risk</th>\n",
       "    </tr>\n",
       "  </thead>\n",
       "  <tbody>\n",
       "    <tr>\n",
       "      <th>Age</th>\n",
       "      <td>1.000000</td>\n",
       "      <td>-0.009107</td>\n",
       "      <td>-0.003844</td>\n",
       "      <td>-0.014105</td>\n",
       "      <td>0.008353</td>\n",
       "      <td>0.394891</td>\n",
       "      <td>-0.008140</td>\n",
       "      <td>-0.006666</td>\n",
       "      <td>0.001206</td>\n",
       "      <td>0.000868</td>\n",
       "      <td>0.000980</td>\n",
       "      <td>0.018307</td>\n",
       "      <td>0.017280</td>\n",
       "      <td>-0.001733</td>\n",
       "      <td>-0.002612</td>\n",
       "      <td>0.003415</td>\n",
       "      <td>0.001384</td>\n",
       "      <td>-0.002185</td>\n",
       "      <td>0.006403</td>\n",
       "    </tr>\n",
       "    <tr>\n",
       "      <th>Cholesterol</th>\n",
       "      <td>-0.009107</td>\n",
       "      <td>1.000000</td>\n",
       "      <td>0.000315</td>\n",
       "      <td>-0.013428</td>\n",
       "      <td>-0.021608</td>\n",
       "      <td>0.016342</td>\n",
       "      <td>-0.014843</td>\n",
       "      <td>-0.007261</td>\n",
       "      <td>0.021517</td>\n",
       "      <td>-0.006070</td>\n",
       "      <td>-0.000905</td>\n",
       "      <td>-0.024487</td>\n",
       "      <td>0.018914</td>\n",
       "      <td>0.000007</td>\n",
       "      <td>0.017292</td>\n",
       "      <td>-0.005454</td>\n",
       "      <td>0.016056</td>\n",
       "      <td>0.004456</td>\n",
       "      <td>0.019340</td>\n",
       "    </tr>\n",
       "    <tr>\n",
       "      <th>Heart Rate</th>\n",
       "      <td>-0.003844</td>\n",
       "      <td>0.000315</td>\n",
       "      <td>1.000000</td>\n",
       "      <td>0.006764</td>\n",
       "      <td>-0.013470</td>\n",
       "      <td>-0.012331</td>\n",
       "      <td>0.012725</td>\n",
       "      <td>0.003459</td>\n",
       "      <td>0.008276</td>\n",
       "      <td>-0.004956</td>\n",
       "      <td>0.009244</td>\n",
       "      <td>-0.004547</td>\n",
       "      <td>-0.010232</td>\n",
       "      <td>0.004873</td>\n",
       "      <td>0.005299</td>\n",
       "      <td>0.012244</td>\n",
       "      <td>0.000834</td>\n",
       "      <td>0.001811</td>\n",
       "      <td>-0.004251</td>\n",
       "    </tr>\n",
       "    <tr>\n",
       "      <th>Diabetes</th>\n",
       "      <td>-0.014105</td>\n",
       "      <td>-0.013428</td>\n",
       "      <td>0.006764</td>\n",
       "      <td>1.000000</td>\n",
       "      <td>-0.013844</td>\n",
       "      <td>0.000527</td>\n",
       "      <td>0.012866</td>\n",
       "      <td>0.005551</td>\n",
       "      <td>-0.007014</td>\n",
       "      <td>0.000867</td>\n",
       "      <td>-0.002656</td>\n",
       "      <td>0.006719</td>\n",
       "      <td>0.004705</td>\n",
       "      <td>-0.000759</td>\n",
       "      <td>-0.002852</td>\n",
       "      <td>0.010431</td>\n",
       "      <td>-0.002411</td>\n",
       "      <td>-0.012457</td>\n",
       "      <td>0.017225</td>\n",
       "    </tr>\n",
       "    <tr>\n",
       "      <th>Family History</th>\n",
       "      <td>0.008353</td>\n",
       "      <td>-0.021608</td>\n",
       "      <td>-0.013470</td>\n",
       "      <td>-0.013844</td>\n",
       "      <td>1.000000</td>\n",
       "      <td>0.011748</td>\n",
       "      <td>-0.001444</td>\n",
       "      <td>0.012701</td>\n",
       "      <td>-0.006378</td>\n",
       "      <td>-0.004568</td>\n",
       "      <td>0.000981</td>\n",
       "      <td>0.015637</td>\n",
       "      <td>0.002561</td>\n",
       "      <td>-0.000401</td>\n",
       "      <td>-0.011492</td>\n",
       "      <td>-0.001904</td>\n",
       "      <td>0.009561</td>\n",
       "      <td>-0.011199</td>\n",
       "      <td>-0.001652</td>\n",
       "    </tr>\n",
       "    <tr>\n",
       "      <th>Smoking</th>\n",
       "      <td>0.394891</td>\n",
       "      <td>0.016342</td>\n",
       "      <td>-0.012331</td>\n",
       "      <td>0.000527</td>\n",
       "      <td>0.011748</td>\n",
       "      <td>1.000000</td>\n",
       "      <td>0.003969</td>\n",
       "      <td>0.012754</td>\n",
       "      <td>-0.000150</td>\n",
       "      <td>-0.000574</td>\n",
       "      <td>-0.010877</td>\n",
       "      <td>-0.001757</td>\n",
       "      <td>0.015311</td>\n",
       "      <td>0.003096</td>\n",
       "      <td>0.007670</td>\n",
       "      <td>0.004650</td>\n",
       "      <td>-0.006465</td>\n",
       "      <td>-0.005424</td>\n",
       "      <td>-0.004051</td>\n",
       "    </tr>\n",
       "    <tr>\n",
       "      <th>Obesity</th>\n",
       "      <td>-0.008140</td>\n",
       "      <td>-0.014843</td>\n",
       "      <td>0.012725</td>\n",
       "      <td>0.012866</td>\n",
       "      <td>-0.001444</td>\n",
       "      <td>0.003969</td>\n",
       "      <td>1.000000</td>\n",
       "      <td>-0.024195</td>\n",
       "      <td>0.002099</td>\n",
       "      <td>0.005159</td>\n",
       "      <td>-0.006267</td>\n",
       "      <td>0.010626</td>\n",
       "      <td>-0.001333</td>\n",
       "      <td>-0.003870</td>\n",
       "      <td>-0.006058</td>\n",
       "      <td>0.001467</td>\n",
       "      <td>0.005337</td>\n",
       "      <td>-0.005314</td>\n",
       "      <td>-0.013318</td>\n",
       "    </tr>\n",
       "    <tr>\n",
       "      <th>Alcohol Consumption</th>\n",
       "      <td>-0.006666</td>\n",
       "      <td>-0.007261</td>\n",
       "      <td>0.003459</td>\n",
       "      <td>0.005551</td>\n",
       "      <td>0.012701</td>\n",
       "      <td>0.012754</td>\n",
       "      <td>-0.024195</td>\n",
       "      <td>1.000000</td>\n",
       "      <td>-0.008514</td>\n",
       "      <td>0.010395</td>\n",
       "      <td>0.003339</td>\n",
       "      <td>-0.005023</td>\n",
       "      <td>-0.012828</td>\n",
       "      <td>-0.022396</td>\n",
       "      <td>0.010562</td>\n",
       "      <td>0.006169</td>\n",
       "      <td>0.001593</td>\n",
       "      <td>-0.000843</td>\n",
       "      <td>-0.013778</td>\n",
       "    </tr>\n",
       "    <tr>\n",
       "      <th>Exercise Hours Per Week</th>\n",
       "      <td>0.001206</td>\n",
       "      <td>0.021517</td>\n",
       "      <td>0.008276</td>\n",
       "      <td>-0.007014</td>\n",
       "      <td>-0.006378</td>\n",
       "      <td>-0.000150</td>\n",
       "      <td>0.002099</td>\n",
       "      <td>-0.008514</td>\n",
       "      <td>1.000000</td>\n",
       "      <td>0.005253</td>\n",
       "      <td>-0.007119</td>\n",
       "      <td>-0.009102</td>\n",
       "      <td>0.008756</td>\n",
       "      <td>-0.023414</td>\n",
       "      <td>0.003777</td>\n",
       "      <td>0.001717</td>\n",
       "      <td>0.007725</td>\n",
       "      <td>-0.001245</td>\n",
       "      <td>0.011133</td>\n",
       "    </tr>\n",
       "    <tr>\n",
       "      <th>Previous Heart Problems</th>\n",
       "      <td>0.000868</td>\n",
       "      <td>-0.006070</td>\n",
       "      <td>-0.004956</td>\n",
       "      <td>0.000867</td>\n",
       "      <td>-0.004568</td>\n",
       "      <td>-0.000574</td>\n",
       "      <td>0.005159</td>\n",
       "      <td>0.010395</td>\n",
       "      <td>0.005253</td>\n",
       "      <td>1.000000</td>\n",
       "      <td>0.005336</td>\n",
       "      <td>-0.017629</td>\n",
       "      <td>-0.002694</td>\n",
       "      <td>-0.003281</td>\n",
       "      <td>0.015718</td>\n",
       "      <td>-0.019029</td>\n",
       "      <td>0.008537</td>\n",
       "      <td>0.004460</td>\n",
       "      <td>0.000274</td>\n",
       "    </tr>\n",
       "    <tr>\n",
       "      <th>Medication Use</th>\n",
       "      <td>0.000980</td>\n",
       "      <td>-0.000905</td>\n",
       "      <td>0.009244</td>\n",
       "      <td>-0.002656</td>\n",
       "      <td>0.000981</td>\n",
       "      <td>-0.010877</td>\n",
       "      <td>-0.006267</td>\n",
       "      <td>0.003339</td>\n",
       "      <td>-0.007119</td>\n",
       "      <td>0.005336</td>\n",
       "      <td>1.000000</td>\n",
       "      <td>0.000863</td>\n",
       "      <td>0.022513</td>\n",
       "      <td>-0.003464</td>\n",
       "      <td>0.009514</td>\n",
       "      <td>-0.011095</td>\n",
       "      <td>-0.011139</td>\n",
       "      <td>-0.020393</td>\n",
       "      <td>0.002234</td>\n",
       "    </tr>\n",
       "    <tr>\n",
       "      <th>Stress Level</th>\n",
       "      <td>0.018307</td>\n",
       "      <td>-0.024487</td>\n",
       "      <td>-0.004547</td>\n",
       "      <td>0.006719</td>\n",
       "      <td>0.015637</td>\n",
       "      <td>-0.001757</td>\n",
       "      <td>0.010626</td>\n",
       "      <td>-0.005023</td>\n",
       "      <td>-0.009102</td>\n",
       "      <td>-0.017629</td>\n",
       "      <td>0.000863</td>\n",
       "      <td>1.000000</td>\n",
       "      <td>-0.005397</td>\n",
       "      <td>-0.002760</td>\n",
       "      <td>-0.003250</td>\n",
       "      <td>-0.003921</td>\n",
       "      <td>0.007405</td>\n",
       "      <td>-0.014205</td>\n",
       "      <td>-0.004111</td>\n",
       "    </tr>\n",
       "    <tr>\n",
       "      <th>Sedentary Hours Per Day</th>\n",
       "      <td>0.017280</td>\n",
       "      <td>0.018914</td>\n",
       "      <td>-0.010232</td>\n",
       "      <td>0.004705</td>\n",
       "      <td>0.002561</td>\n",
       "      <td>0.015311</td>\n",
       "      <td>-0.001333</td>\n",
       "      <td>-0.012828</td>\n",
       "      <td>0.008756</td>\n",
       "      <td>-0.002694</td>\n",
       "      <td>0.022513</td>\n",
       "      <td>-0.005397</td>\n",
       "      <td>1.000000</td>\n",
       "      <td>0.003511</td>\n",
       "      <td>-0.000024</td>\n",
       "      <td>-0.005785</td>\n",
       "      <td>-0.006178</td>\n",
       "      <td>0.004792</td>\n",
       "      <td>-0.005613</td>\n",
       "    </tr>\n",
       "    <tr>\n",
       "      <th>Income</th>\n",
       "      <td>-0.001733</td>\n",
       "      <td>0.000007</td>\n",
       "      <td>0.004873</td>\n",
       "      <td>-0.000759</td>\n",
       "      <td>-0.000401</td>\n",
       "      <td>0.003096</td>\n",
       "      <td>-0.003870</td>\n",
       "      <td>-0.022396</td>\n",
       "      <td>-0.023414</td>\n",
       "      <td>-0.003281</td>\n",
       "      <td>-0.003464</td>\n",
       "      <td>-0.002760</td>\n",
       "      <td>0.003511</td>\n",
       "      <td>1.000000</td>\n",
       "      <td>0.008836</td>\n",
       "      <td>0.010739</td>\n",
       "      <td>0.000130</td>\n",
       "      <td>-0.006598</td>\n",
       "      <td>0.009628</td>\n",
       "    </tr>\n",
       "    <tr>\n",
       "      <th>BMI</th>\n",
       "      <td>-0.002612</td>\n",
       "      <td>0.017292</td>\n",
       "      <td>0.005299</td>\n",
       "      <td>-0.002852</td>\n",
       "      <td>-0.011492</td>\n",
       "      <td>0.007670</td>\n",
       "      <td>-0.006058</td>\n",
       "      <td>0.010562</td>\n",
       "      <td>0.003777</td>\n",
       "      <td>0.015718</td>\n",
       "      <td>0.009514</td>\n",
       "      <td>-0.003250</td>\n",
       "      <td>-0.000024</td>\n",
       "      <td>0.008836</td>\n",
       "      <td>1.000000</td>\n",
       "      <td>-0.005964</td>\n",
       "      <td>0.008110</td>\n",
       "      <td>-0.010030</td>\n",
       "      <td>0.000020</td>\n",
       "    </tr>\n",
       "    <tr>\n",
       "      <th>Triglycerides</th>\n",
       "      <td>0.003415</td>\n",
       "      <td>-0.005454</td>\n",
       "      <td>0.012244</td>\n",
       "      <td>0.010431</td>\n",
       "      <td>-0.001904</td>\n",
       "      <td>0.004650</td>\n",
       "      <td>0.001467</td>\n",
       "      <td>0.006169</td>\n",
       "      <td>0.001717</td>\n",
       "      <td>-0.019029</td>\n",
       "      <td>-0.011095</td>\n",
       "      <td>-0.003921</td>\n",
       "      <td>-0.005785</td>\n",
       "      <td>0.010739</td>\n",
       "      <td>-0.005964</td>\n",
       "      <td>1.000000</td>\n",
       "      <td>-0.007556</td>\n",
       "      <td>-0.029216</td>\n",
       "      <td>0.010471</td>\n",
       "    </tr>\n",
       "    <tr>\n",
       "      <th>Physical Activity Days Per Week</th>\n",
       "      <td>0.001384</td>\n",
       "      <td>0.016056</td>\n",
       "      <td>0.000834</td>\n",
       "      <td>-0.002411</td>\n",
       "      <td>0.009561</td>\n",
       "      <td>-0.006465</td>\n",
       "      <td>0.005337</td>\n",
       "      <td>0.001593</td>\n",
       "      <td>0.007725</td>\n",
       "      <td>0.008537</td>\n",
       "      <td>-0.011139</td>\n",
       "      <td>0.007405</td>\n",
       "      <td>-0.006178</td>\n",
       "      <td>0.000130</td>\n",
       "      <td>0.008110</td>\n",
       "      <td>-0.007556</td>\n",
       "      <td>1.000000</td>\n",
       "      <td>0.014033</td>\n",
       "      <td>-0.005014</td>\n",
       "    </tr>\n",
       "    <tr>\n",
       "      <th>Sleep Hours Per Day</th>\n",
       "      <td>-0.002185</td>\n",
       "      <td>0.004456</td>\n",
       "      <td>0.001811</td>\n",
       "      <td>-0.012457</td>\n",
       "      <td>-0.011199</td>\n",
       "      <td>-0.005424</td>\n",
       "      <td>-0.005314</td>\n",
       "      <td>-0.000843</td>\n",
       "      <td>-0.001245</td>\n",
       "      <td>0.004460</td>\n",
       "      <td>-0.020393</td>\n",
       "      <td>-0.014205</td>\n",
       "      <td>0.004792</td>\n",
       "      <td>-0.006598</td>\n",
       "      <td>-0.010030</td>\n",
       "      <td>-0.029216</td>\n",
       "      <td>0.014033</td>\n",
       "      <td>1.000000</td>\n",
       "      <td>-0.018528</td>\n",
       "    </tr>\n",
       "    <tr>\n",
       "      <th>Heart Attack Risk</th>\n",
       "      <td>0.006403</td>\n",
       "      <td>0.019340</td>\n",
       "      <td>-0.004251</td>\n",
       "      <td>0.017225</td>\n",
       "      <td>-0.001652</td>\n",
       "      <td>-0.004051</td>\n",
       "      <td>-0.013318</td>\n",
       "      <td>-0.013778</td>\n",
       "      <td>0.011133</td>\n",
       "      <td>0.000274</td>\n",
       "      <td>0.002234</td>\n",
       "      <td>-0.004111</td>\n",
       "      <td>-0.005613</td>\n",
       "      <td>0.009628</td>\n",
       "      <td>0.000020</td>\n",
       "      <td>0.010471</td>\n",
       "      <td>-0.005014</td>\n",
       "      <td>-0.018528</td>\n",
       "      <td>1.000000</td>\n",
       "    </tr>\n",
       "  </tbody>\n",
       "</table>\n",
       "</div>"
      ],
      "text/plain": [
       "                                      Age  Cholesterol  Heart Rate  Diabetes  \\\n",
       "Age                              1.000000    -0.009107   -0.003844 -0.014105   \n",
       "Cholesterol                     -0.009107     1.000000    0.000315 -0.013428   \n",
       "Heart Rate                      -0.003844     0.000315    1.000000  0.006764   \n",
       "Diabetes                        -0.014105    -0.013428    0.006764  1.000000   \n",
       "Family History                   0.008353    -0.021608   -0.013470 -0.013844   \n",
       "Smoking                          0.394891     0.016342   -0.012331  0.000527   \n",
       "Obesity                         -0.008140    -0.014843    0.012725  0.012866   \n",
       "Alcohol Consumption             -0.006666    -0.007261    0.003459  0.005551   \n",
       "Exercise Hours Per Week          0.001206     0.021517    0.008276 -0.007014   \n",
       "Previous Heart Problems          0.000868    -0.006070   -0.004956  0.000867   \n",
       "Medication Use                   0.000980    -0.000905    0.009244 -0.002656   \n",
       "Stress Level                     0.018307    -0.024487   -0.004547  0.006719   \n",
       "Sedentary Hours Per Day          0.017280     0.018914   -0.010232  0.004705   \n",
       "Income                          -0.001733     0.000007    0.004873 -0.000759   \n",
       "BMI                             -0.002612     0.017292    0.005299 -0.002852   \n",
       "Triglycerides                    0.003415    -0.005454    0.012244  0.010431   \n",
       "Physical Activity Days Per Week  0.001384     0.016056    0.000834 -0.002411   \n",
       "Sleep Hours Per Day             -0.002185     0.004456    0.001811 -0.012457   \n",
       "Heart Attack Risk                0.006403     0.019340   -0.004251  0.017225   \n",
       "\n",
       "                                 Family History   Smoking   Obesity  \\\n",
       "Age                                    0.008353  0.394891 -0.008140   \n",
       "Cholesterol                           -0.021608  0.016342 -0.014843   \n",
       "Heart Rate                            -0.013470 -0.012331  0.012725   \n",
       "Diabetes                              -0.013844  0.000527  0.012866   \n",
       "Family History                         1.000000  0.011748 -0.001444   \n",
       "Smoking                                0.011748  1.000000  0.003969   \n",
       "Obesity                               -0.001444  0.003969  1.000000   \n",
       "Alcohol Consumption                    0.012701  0.012754 -0.024195   \n",
       "Exercise Hours Per Week               -0.006378 -0.000150  0.002099   \n",
       "Previous Heart Problems               -0.004568 -0.000574  0.005159   \n",
       "Medication Use                         0.000981 -0.010877 -0.006267   \n",
       "Stress Level                           0.015637 -0.001757  0.010626   \n",
       "Sedentary Hours Per Day                0.002561  0.015311 -0.001333   \n",
       "Income                                -0.000401  0.003096 -0.003870   \n",
       "BMI                                   -0.011492  0.007670 -0.006058   \n",
       "Triglycerides                         -0.001904  0.004650  0.001467   \n",
       "Physical Activity Days Per Week        0.009561 -0.006465  0.005337   \n",
       "Sleep Hours Per Day                   -0.011199 -0.005424 -0.005314   \n",
       "Heart Attack Risk                     -0.001652 -0.004051 -0.013318   \n",
       "\n",
       "                                 Alcohol Consumption  Exercise Hours Per Week  \\\n",
       "Age                                        -0.006666                 0.001206   \n",
       "Cholesterol                                -0.007261                 0.021517   \n",
       "Heart Rate                                  0.003459                 0.008276   \n",
       "Diabetes                                    0.005551                -0.007014   \n",
       "Family History                              0.012701                -0.006378   \n",
       "Smoking                                     0.012754                -0.000150   \n",
       "Obesity                                    -0.024195                 0.002099   \n",
       "Alcohol Consumption                         1.000000                -0.008514   \n",
       "Exercise Hours Per Week                    -0.008514                 1.000000   \n",
       "Previous Heart Problems                     0.010395                 0.005253   \n",
       "Medication Use                              0.003339                -0.007119   \n",
       "Stress Level                               -0.005023                -0.009102   \n",
       "Sedentary Hours Per Day                    -0.012828                 0.008756   \n",
       "Income                                     -0.022396                -0.023414   \n",
       "BMI                                         0.010562                 0.003777   \n",
       "Triglycerides                               0.006169                 0.001717   \n",
       "Physical Activity Days Per Week             0.001593                 0.007725   \n",
       "Sleep Hours Per Day                        -0.000843                -0.001245   \n",
       "Heart Attack Risk                          -0.013778                 0.011133   \n",
       "\n",
       "                                 Previous Heart Problems  Medication Use  \\\n",
       "Age                                             0.000868        0.000980   \n",
       "Cholesterol                                    -0.006070       -0.000905   \n",
       "Heart Rate                                     -0.004956        0.009244   \n",
       "Diabetes                                        0.000867       -0.002656   \n",
       "Family History                                 -0.004568        0.000981   \n",
       "Smoking                                        -0.000574       -0.010877   \n",
       "Obesity                                         0.005159       -0.006267   \n",
       "Alcohol Consumption                             0.010395        0.003339   \n",
       "Exercise Hours Per Week                         0.005253       -0.007119   \n",
       "Previous Heart Problems                         1.000000        0.005336   \n",
       "Medication Use                                  0.005336        1.000000   \n",
       "Stress Level                                   -0.017629        0.000863   \n",
       "Sedentary Hours Per Day                        -0.002694        0.022513   \n",
       "Income                                         -0.003281       -0.003464   \n",
       "BMI                                             0.015718        0.009514   \n",
       "Triglycerides                                  -0.019029       -0.011095   \n",
       "Physical Activity Days Per Week                 0.008537       -0.011139   \n",
       "Sleep Hours Per Day                             0.004460       -0.020393   \n",
       "Heart Attack Risk                               0.000274        0.002234   \n",
       "\n",
       "                                 Stress Level  Sedentary Hours Per Day  \\\n",
       "Age                                  0.018307                 0.017280   \n",
       "Cholesterol                         -0.024487                 0.018914   \n",
       "Heart Rate                          -0.004547                -0.010232   \n",
       "Diabetes                             0.006719                 0.004705   \n",
       "Family History                       0.015637                 0.002561   \n",
       "Smoking                             -0.001757                 0.015311   \n",
       "Obesity                              0.010626                -0.001333   \n",
       "Alcohol Consumption                 -0.005023                -0.012828   \n",
       "Exercise Hours Per Week             -0.009102                 0.008756   \n",
       "Previous Heart Problems             -0.017629                -0.002694   \n",
       "Medication Use                       0.000863                 0.022513   \n",
       "Stress Level                         1.000000                -0.005397   \n",
       "Sedentary Hours Per Day             -0.005397                 1.000000   \n",
       "Income                              -0.002760                 0.003511   \n",
       "BMI                                 -0.003250                -0.000024   \n",
       "Triglycerides                       -0.003921                -0.005785   \n",
       "Physical Activity Days Per Week      0.007405                -0.006178   \n",
       "Sleep Hours Per Day                 -0.014205                 0.004792   \n",
       "Heart Attack Risk                   -0.004111                -0.005613   \n",
       "\n",
       "                                   Income       BMI  Triglycerides  \\\n",
       "Age                             -0.001733 -0.002612       0.003415   \n",
       "Cholesterol                      0.000007  0.017292      -0.005454   \n",
       "Heart Rate                       0.004873  0.005299       0.012244   \n",
       "Diabetes                        -0.000759 -0.002852       0.010431   \n",
       "Family History                  -0.000401 -0.011492      -0.001904   \n",
       "Smoking                          0.003096  0.007670       0.004650   \n",
       "Obesity                         -0.003870 -0.006058       0.001467   \n",
       "Alcohol Consumption             -0.022396  0.010562       0.006169   \n",
       "Exercise Hours Per Week         -0.023414  0.003777       0.001717   \n",
       "Previous Heart Problems         -0.003281  0.015718      -0.019029   \n",
       "Medication Use                  -0.003464  0.009514      -0.011095   \n",
       "Stress Level                    -0.002760 -0.003250      -0.003921   \n",
       "Sedentary Hours Per Day          0.003511 -0.000024      -0.005785   \n",
       "Income                           1.000000  0.008836       0.010739   \n",
       "BMI                              0.008836  1.000000      -0.005964   \n",
       "Triglycerides                    0.010739 -0.005964       1.000000   \n",
       "Physical Activity Days Per Week  0.000130  0.008110      -0.007556   \n",
       "Sleep Hours Per Day             -0.006598 -0.010030      -0.029216   \n",
       "Heart Attack Risk                0.009628  0.000020       0.010471   \n",
       "\n",
       "                                 Physical Activity Days Per Week  \\\n",
       "Age                                                     0.001384   \n",
       "Cholesterol                                             0.016056   \n",
       "Heart Rate                                              0.000834   \n",
       "Diabetes                                               -0.002411   \n",
       "Family History                                          0.009561   \n",
       "Smoking                                                -0.006465   \n",
       "Obesity                                                 0.005337   \n",
       "Alcohol Consumption                                     0.001593   \n",
       "Exercise Hours Per Week                                 0.007725   \n",
       "Previous Heart Problems                                 0.008537   \n",
       "Medication Use                                         -0.011139   \n",
       "Stress Level                                            0.007405   \n",
       "Sedentary Hours Per Day                                -0.006178   \n",
       "Income                                                  0.000130   \n",
       "BMI                                                     0.008110   \n",
       "Triglycerides                                          -0.007556   \n",
       "Physical Activity Days Per Week                         1.000000   \n",
       "Sleep Hours Per Day                                     0.014033   \n",
       "Heart Attack Risk                                      -0.005014   \n",
       "\n",
       "                                 Sleep Hours Per Day  Heart Attack Risk  \n",
       "Age                                        -0.002185           0.006403  \n",
       "Cholesterol                                 0.004456           0.019340  \n",
       "Heart Rate                                  0.001811          -0.004251  \n",
       "Diabetes                                   -0.012457           0.017225  \n",
       "Family History                             -0.011199          -0.001652  \n",
       "Smoking                                    -0.005424          -0.004051  \n",
       "Obesity                                    -0.005314          -0.013318  \n",
       "Alcohol Consumption                        -0.000843          -0.013778  \n",
       "Exercise Hours Per Week                    -0.001245           0.011133  \n",
       "Previous Heart Problems                     0.004460           0.000274  \n",
       "Medication Use                             -0.020393           0.002234  \n",
       "Stress Level                               -0.014205          -0.004111  \n",
       "Sedentary Hours Per Day                     0.004792          -0.005613  \n",
       "Income                                     -0.006598           0.009628  \n",
       "BMI                                        -0.010030           0.000020  \n",
       "Triglycerides                              -0.029216           0.010471  \n",
       "Physical Activity Days Per Week             0.014033          -0.005014  \n",
       "Sleep Hours Per Day                         1.000000          -0.018528  \n",
       "Heart Attack Risk                          -0.018528           1.000000  "
      ]
     },
     "execution_count": 548,
     "metadata": {},
     "output_type": "execute_result"
    }
   ],
   "source": [
    "#Finding the features which are most relevant to Heart Attack Risk\n",
    "\n",
    "numeric_vals = df.select_dtypes(include=['number'])\n",
    "numeric_corr = numeric_vals.corr()\n",
    "numeric_corr"
   ]
  },
  {
   "cell_type": "markdown",
   "metadata": {},
   "source": [
    "### Based on the corrolation matrix we can see "
   ]
  },
  {
   "cell_type": "code",
   "execution_count": 549,
   "metadata": {},
   "outputs": [
    {
     "data": {
      "image/png": "[encoded data removed]",
      "text/plain": [
       "<Figure size 1080x720 with 2 Axes>"
      ]
     },
     "metadata": {
      "needs_background": "light"
     },
     "output_type": "display_data"
    },
    {
     "data": {
      "text/plain": [
       "<Figure size 432x288 with 0 Axes>"
      ]
     },
     "metadata": {},
     "output_type": "display_data"
    }
   ],
   "source": [
    "# Creating heatmap for visualizing the correclations between features\n",
    "plt.figure(figsize=(15, 10))\n",
    "sns.heatmap(numeric_corr, annot=True, cmap='coolwarm')\n",
    "plt.tight_layout()\n",
    "plt.show()\n",
    "plt.savefig('heat')"
   ]
  },
  {
   "cell_type": "markdown",
   "metadata": {},
   "source": [
    "### Separating the Blood Pressure into systolic and diastolic"
   ]
  },
  {
   "cell_type": "code",
   "execution_count": 550,
   "metadata": {},
   "outputs": [
    {
     "data": {
      "text/html": [
       "<div>\n",
       "<style scoped>\n",
       "    .dataframe tbody tr th:only-of-type {\n",
       "        vertical-align: middle;\n",
       "    }\n",
       "\n",
       "    .dataframe tbody tr th {\n",
       "        vertical-align: top;\n",
       "    }\n",
       "\n",
       "    .dataframe thead th {\n",
       "        text-align: right;\n",
       "    }\n",
       "</style>\n",
       "<table border=\"1\" class=\"dataframe\">\n",
       "  <thead>\n",
       "    <tr style=\"text-align: right;\">\n",
       "      <th></th>\n",
       "      <th>Patient ID</th>\n",
       "      <th>Age</th>\n",
       "      <th>Sex</th>\n",
       "      <th>Cholesterol</th>\n",
       "      <th>Blood Pressure</th>\n",
       "      <th>Heart Rate</th>\n",
       "      <th>Diabetes</th>\n",
       "      <th>Family History</th>\n",
       "      <th>Smoking</th>\n",
       "      <th>Obesity</th>\n",
       "      <th>...</th>\n",
       "      <th>BMI</th>\n",
       "      <th>Triglycerides</th>\n",
       "      <th>Physical Activity Days Per Week</th>\n",
       "      <th>Sleep Hours Per Day</th>\n",
       "      <th>Country</th>\n",
       "      <th>Continent</th>\n",
       "      <th>Hemisphere</th>\n",
       "      <th>Heart Attack Risk</th>\n",
       "      <th>systolic</th>\n",
       "      <th>diastolic</th>\n",
       "    </tr>\n",
       "  </thead>\n",
       "  <tbody>\n",
       "    <tr>\n",
       "      <th>0</th>\n",
       "      <td>BMW7812</td>\n",
       "      <td>67</td>\n",
       "      <td>Male</td>\n",
       "      <td>208</td>\n",
       "      <td>158/88</td>\n",
       "      <td>72</td>\n",
       "      <td>0</td>\n",
       "      <td>0</td>\n",
       "      <td>1</td>\n",
       "      <td>0</td>\n",
       "      <td>...</td>\n",
       "      <td>31.251233</td>\n",
       "      <td>286</td>\n",
       "      <td>0</td>\n",
       "      <td>6</td>\n",
       "      <td>Argentina</td>\n",
       "      <td>South America</td>\n",
       "      <td>Southern Hemisphere</td>\n",
       "      <td>0</td>\n",
       "      <td>158</td>\n",
       "      <td>88</td>\n",
       "    </tr>\n",
       "    <tr>\n",
       "      <th>1</th>\n",
       "      <td>CZE1114</td>\n",
       "      <td>21</td>\n",
       "      <td>Male</td>\n",
       "      <td>389</td>\n",
       "      <td>165/93</td>\n",
       "      <td>98</td>\n",
       "      <td>1</td>\n",
       "      <td>1</td>\n",
       "      <td>1</td>\n",
       "      <td>1</td>\n",
       "      <td>...</td>\n",
       "      <td>27.194973</td>\n",
       "      <td>235</td>\n",
       "      <td>1</td>\n",
       "      <td>7</td>\n",
       "      <td>Canada</td>\n",
       "      <td>North America</td>\n",
       "      <td>Northern Hemisphere</td>\n",
       "      <td>0</td>\n",
       "      <td>165</td>\n",
       "      <td>93</td>\n",
       "    </tr>\n",
       "    <tr>\n",
       "      <th>2</th>\n",
       "      <td>BNI9906</td>\n",
       "      <td>21</td>\n",
       "      <td>Female</td>\n",
       "      <td>324</td>\n",
       "      <td>174/99</td>\n",
       "      <td>72</td>\n",
       "      <td>1</td>\n",
       "      <td>0</td>\n",
       "      <td>0</td>\n",
       "      <td>0</td>\n",
       "      <td>...</td>\n",
       "      <td>28.176571</td>\n",
       "      <td>587</td>\n",
       "      <td>4</td>\n",
       "      <td>4</td>\n",
       "      <td>France</td>\n",
       "      <td>Europe</td>\n",
       "      <td>Northern Hemisphere</td>\n",
       "      <td>0</td>\n",
       "      <td>174</td>\n",
       "      <td>99</td>\n",
       "    </tr>\n",
       "    <tr>\n",
       "      <th>3</th>\n",
       "      <td>JLN3497</td>\n",
       "      <td>84</td>\n",
       "      <td>Male</td>\n",
       "      <td>383</td>\n",
       "      <td>163/100</td>\n",
       "      <td>73</td>\n",
       "      <td>1</td>\n",
       "      <td>1</td>\n",
       "      <td>1</td>\n",
       "      <td>0</td>\n",
       "      <td>...</td>\n",
       "      <td>36.464704</td>\n",
       "      <td>378</td>\n",
       "      <td>3</td>\n",
       "      <td>4</td>\n",
       "      <td>Canada</td>\n",
       "      <td>North America</td>\n",
       "      <td>Northern Hemisphere</td>\n",
       "      <td>0</td>\n",
       "      <td>163</td>\n",
       "      <td>100</td>\n",
       "    </tr>\n",
       "    <tr>\n",
       "      <th>4</th>\n",
       "      <td>GFO8847</td>\n",
       "      <td>66</td>\n",
       "      <td>Male</td>\n",
       "      <td>318</td>\n",
       "      <td>91/88</td>\n",
       "      <td>93</td>\n",
       "      <td>1</td>\n",
       "      <td>1</td>\n",
       "      <td>1</td>\n",
       "      <td>1</td>\n",
       "      <td>...</td>\n",
       "      <td>21.809144</td>\n",
       "      <td>231</td>\n",
       "      <td>1</td>\n",
       "      <td>5</td>\n",
       "      <td>Thailand</td>\n",
       "      <td>Asia</td>\n",
       "      <td>Northern Hemisphere</td>\n",
       "      <td>0</td>\n",
       "      <td>91</td>\n",
       "      <td>88</td>\n",
       "    </tr>\n",
       "  </tbody>\n",
       "</table>\n",
       "<p>5 rows × 28 columns</p>\n",
       "</div>"
      ],
      "text/plain": [
       "  Patient ID  Age     Sex  Cholesterol Blood Pressure  Heart Rate  Diabetes  \\\n",
       "0    BMW7812   67    Male          208         158/88          72         0   \n",
       "1    CZE1114   21    Male          389         165/93          98         1   \n",
       "2    BNI9906   21  Female          324         174/99          72         1   \n",
       "3    JLN3497   84    Male          383        163/100          73         1   \n",
       "4    GFO8847   66    Male          318          91/88          93         1   \n",
       "\n",
       "   Family History  Smoking  Obesity  ...        BMI  Triglycerides  \\\n",
       "0               0        1        0  ...  31.251233            286   \n",
       "1               1        1        1  ...  27.194973            235   \n",
       "2               0        0        0  ...  28.176571            587   \n",
       "3               1        1        0  ...  36.464704            378   \n",
       "4               1        1        1  ...  21.809144            231   \n",
       "\n",
       "  Physical Activity Days Per Week  Sleep Hours Per Day    Country  \\\n",
       "0                               0                    6  Argentina   \n",
       "1                               1                    7     Canada   \n",
       "2                               4                    4     France   \n",
       "3                               3                    4     Canada   \n",
       "4                               1                    5   Thailand   \n",
       "\n",
       "       Continent           Hemisphere  Heart Attack Risk  systolic  diastolic  \n",
       "0  South America  Southern Hemisphere                  0       158         88  \n",
       "1  North America  Northern Hemisphere                  0       165         93  \n",
       "2         Europe  Northern Hemisphere                  0       174         99  \n",
       "3  North America  Northern Hemisphere                  0       163        100  \n",
       "4           Asia  Northern Hemisphere                  0        91         88  \n",
       "\n",
       "[5 rows x 28 columns]"
      ]
     },
     "execution_count": 550,
     "metadata": {},
     "output_type": "execute_result"
    }
   ],
   "source": [
    "df['systolic']=df['Blood Pressure'].apply(lambda x:x.split('/')[0])\n",
    "df['systolic']=df['systolic'].astype(int)\n",
    "\n",
    "df['diastolic']=df['Blood Pressure'].apply(lambda x:x.split('/')[1])\n",
    "df['diastolic']=df['diastolic'].astype(int)\n",
    "\n",
    "# Two new column added into dataframe\n",
    "df.head()"
   ]
  },
  {
   "cell_type": "code",
   "execution_count": 551,
   "metadata": {},
   "outputs": [
    {
     "data": {
      "text/html": [
       "<div>\n",
       "<style scoped>\n",
       "    .dataframe tbody tr th:only-of-type {\n",
       "        vertical-align: middle;\n",
       "    }\n",
       "\n",
       "    .dataframe tbody tr th {\n",
       "        vertical-align: top;\n",
       "    }\n",
       "\n",
       "    .dataframe thead th {\n",
       "        text-align: right;\n",
       "    }\n",
       "</style>\n",
       "<table border=\"1\" class=\"dataframe\">\n",
       "  <thead>\n",
       "    <tr style=\"text-align: right;\">\n",
       "      <th></th>\n",
       "      <th>Patient ID</th>\n",
       "      <th>Age</th>\n",
       "      <th>Sex</th>\n",
       "      <th>Cholesterol</th>\n",
       "      <th>Blood Pressure</th>\n",
       "      <th>Heart Rate</th>\n",
       "      <th>Diabetes</th>\n",
       "      <th>Family History</th>\n",
       "      <th>Smoking</th>\n",
       "      <th>Obesity</th>\n",
       "      <th>...</th>\n",
       "      <th>BMI</th>\n",
       "      <th>Triglycerides</th>\n",
       "      <th>Physical Activity Days Per Week</th>\n",
       "      <th>Sleep Hours Per Day</th>\n",
       "      <th>Country</th>\n",
       "      <th>Continent</th>\n",
       "      <th>Hemisphere</th>\n",
       "      <th>Heart Attack Risk</th>\n",
       "      <th>systolic</th>\n",
       "      <th>diastolic</th>\n",
       "    </tr>\n",
       "  </thead>\n",
       "  <tbody>\n",
       "    <tr>\n",
       "      <th>0</th>\n",
       "      <td>BMW7812</td>\n",
       "      <td>67</td>\n",
       "      <td>Male</td>\n",
       "      <td>208</td>\n",
       "      <td>158/88</td>\n",
       "      <td>72</td>\n",
       "      <td>False</td>\n",
       "      <td>False</td>\n",
       "      <td>True</td>\n",
       "      <td>False</td>\n",
       "      <td>...</td>\n",
       "      <td>31.251233</td>\n",
       "      <td>286</td>\n",
       "      <td>0</td>\n",
       "      <td>6</td>\n",
       "      <td>Argentina</td>\n",
       "      <td>South America</td>\n",
       "      <td>Southern Hemisphere</td>\n",
       "      <td>0</td>\n",
       "      <td>158</td>\n",
       "      <td>88</td>\n",
       "    </tr>\n",
       "    <tr>\n",
       "      <th>1</th>\n",
       "      <td>CZE1114</td>\n",
       "      <td>21</td>\n",
       "      <td>Male</td>\n",
       "      <td>389</td>\n",
       "      <td>165/93</td>\n",
       "      <td>98</td>\n",
       "      <td>True</td>\n",
       "      <td>True</td>\n",
       "      <td>True</td>\n",
       "      <td>True</td>\n",
       "      <td>...</td>\n",
       "      <td>27.194973</td>\n",
       "      <td>235</td>\n",
       "      <td>1</td>\n",
       "      <td>7</td>\n",
       "      <td>Canada</td>\n",
       "      <td>North America</td>\n",
       "      <td>Northern Hemisphere</td>\n",
       "      <td>0</td>\n",
       "      <td>165</td>\n",
       "      <td>93</td>\n",
       "    </tr>\n",
       "    <tr>\n",
       "      <th>2</th>\n",
       "      <td>BNI9906</td>\n",
       "      <td>21</td>\n",
       "      <td>Female</td>\n",
       "      <td>324</td>\n",
       "      <td>174/99</td>\n",
       "      <td>72</td>\n",
       "      <td>True</td>\n",
       "      <td>False</td>\n",
       "      <td>False</td>\n",
       "      <td>False</td>\n",
       "      <td>...</td>\n",
       "      <td>28.176571</td>\n",
       "      <td>587</td>\n",
       "      <td>4</td>\n",
       "      <td>4</td>\n",
       "      <td>France</td>\n",
       "      <td>Europe</td>\n",
       "      <td>Northern Hemisphere</td>\n",
       "      <td>0</td>\n",
       "      <td>174</td>\n",
       "      <td>99</td>\n",
       "    </tr>\n",
       "    <tr>\n",
       "      <th>3</th>\n",
       "      <td>JLN3497</td>\n",
       "      <td>84</td>\n",
       "      <td>Male</td>\n",
       "      <td>383</td>\n",
       "      <td>163/100</td>\n",
       "      <td>73</td>\n",
       "      <td>True</td>\n",
       "      <td>True</td>\n",
       "      <td>True</td>\n",
       "      <td>False</td>\n",
       "      <td>...</td>\n",
       "      <td>36.464704</td>\n",
       "      <td>378</td>\n",
       "      <td>3</td>\n",
       "      <td>4</td>\n",
       "      <td>Canada</td>\n",
       "      <td>North America</td>\n",
       "      <td>Northern Hemisphere</td>\n",
       "      <td>0</td>\n",
       "      <td>163</td>\n",
       "      <td>100</td>\n",
       "    </tr>\n",
       "    <tr>\n",
       "      <th>4</th>\n",
       "      <td>GFO8847</td>\n",
       "      <td>66</td>\n",
       "      <td>Male</td>\n",
       "      <td>318</td>\n",
       "      <td>91/88</td>\n",
       "      <td>93</td>\n",
       "      <td>True</td>\n",
       "      <td>True</td>\n",
       "      <td>True</td>\n",
       "      <td>True</td>\n",
       "      <td>...</td>\n",
       "      <td>21.809144</td>\n",
       "      <td>231</td>\n",
       "      <td>1</td>\n",
       "      <td>5</td>\n",
       "      <td>Thailand</td>\n",
       "      <td>Asia</td>\n",
       "      <td>Northern Hemisphere</td>\n",
       "      <td>0</td>\n",
       "      <td>91</td>\n",
       "      <td>88</td>\n",
       "    </tr>\n",
       "  </tbody>\n",
       "</table>\n",
       "<p>5 rows × 28 columns</p>\n",
       "</div>"
      ],
      "text/plain": [
       "  Patient ID  Age     Sex  Cholesterol Blood Pressure  Heart Rate  Diabetes  \\\n",
       "0    BMW7812   67    Male          208         158/88          72     False   \n",
       "1    CZE1114   21    Male          389         165/93          98      True   \n",
       "2    BNI9906   21  Female          324         174/99          72      True   \n",
       "3    JLN3497   84    Male          383        163/100          73      True   \n",
       "4    GFO8847   66    Male          318          91/88          93      True   \n",
       "\n",
       "   Family History  Smoking  Obesity  ...        BMI  Triglycerides  \\\n",
       "0           False     True    False  ...  31.251233            286   \n",
       "1            True     True     True  ...  27.194973            235   \n",
       "2           False    False    False  ...  28.176571            587   \n",
       "3            True     True    False  ...  36.464704            378   \n",
       "4            True     True     True  ...  21.809144            231   \n",
       "\n",
       "  Physical Activity Days Per Week  Sleep Hours Per Day    Country  \\\n",
       "0                               0                    6  Argentina   \n",
       "1                               1                    7     Canada   \n",
       "2                               4                    4     France   \n",
       "3                               3                    4     Canada   \n",
       "4                               1                    5   Thailand   \n",
       "\n",
       "       Continent           Hemisphere  Heart Attack Risk  systolic  diastolic  \n",
       "0  South America  Southern Hemisphere                  0       158         88  \n",
       "1  North America  Northern Hemisphere                  0       165         93  \n",
       "2         Europe  Northern Hemisphere                  0       174         99  \n",
       "3  North America  Northern Hemisphere                  0       163        100  \n",
       "4           Asia  Northern Hemisphere                  0        91         88  \n",
       "\n",
       "[5 rows x 28 columns]"
      ]
     },
     "execution_count": 551,
     "metadata": {},
     "output_type": "execute_result"
    }
   ],
   "source": [
    "# Changing the type of columns with values of 0 and 1 to boolean type\n",
    "boolean_cols=['Diabetes','Family History','Smoking','Obesity','Alcohol Consumption','Previous Heart Problems','Medication Use']\n",
    "\n",
    "for col in boolean_cols:\n",
    "    df[col] = df[col].astype('bool')\n",
    "    \n",
    "df.head()"
   ]
  },
  {
   "cell_type": "markdown",
   "metadata": {},
   "source": [
    "### Analytics Base Tables"
   ]
  },
  {
   "cell_type": "code",
   "execution_count": 552,
   "metadata": {},
   "outputs": [
    {
     "name": "stdout",
     "output_type": "stream",
     "text": [
      "['Age', 'Cholesterol', 'Heart Rate', 'Exercise Hours Per Week', 'Stress Level', 'Sedentary Hours Per Day', 'Income', 'BMI', 'Triglycerides', 'Physical Activity Days Per Week', 'Sleep Hours Per Day', 'Heart Attack Risk', 'systolic', 'diastolic']\n"
     ]
    },
    {
     "data": {
      "text/html": [
       "<div>\n",
       "<style scoped>\n",
       "    .dataframe tbody tr th:only-of-type {\n",
       "        vertical-align: middle;\n",
       "    }\n",
       "\n",
       "    .dataframe tbody tr th {\n",
       "        vertical-align: top;\n",
       "    }\n",
       "\n",
       "    .dataframe thead th {\n",
       "        text-align: right;\n",
       "    }\n",
       "</style>\n",
       "<table border=\"1\" class=\"dataframe\">\n",
       "  <thead>\n",
       "    <tr style=\"text-align: right;\">\n",
       "      <th></th>\n",
       "      <th>count</th>\n",
       "      <th>mean</th>\n",
       "      <th>std</th>\n",
       "      <th>min</th>\n",
       "      <th>25%</th>\n",
       "      <th>50%</th>\n",
       "      <th>75%</th>\n",
       "      <th>max</th>\n",
       "    </tr>\n",
       "  </thead>\n",
       "  <tbody>\n",
       "    <tr>\n",
       "      <th>Age</th>\n",
       "      <td>8763.0</td>\n",
       "      <td>53.71</td>\n",
       "      <td>21.25</td>\n",
       "      <td>18.0</td>\n",
       "      <td>35.00</td>\n",
       "      <td>54.00</td>\n",
       "      <td>72.00</td>\n",
       "      <td>90.0</td>\n",
       "    </tr>\n",
       "    <tr>\n",
       "      <th>Cholesterol</th>\n",
       "      <td>8763.0</td>\n",
       "      <td>259.88</td>\n",
       "      <td>80.86</td>\n",
       "      <td>120.0</td>\n",
       "      <td>192.00</td>\n",
       "      <td>259.00</td>\n",
       "      <td>330.00</td>\n",
       "      <td>400.0</td>\n",
       "    </tr>\n",
       "    <tr>\n",
       "      <th>Heart Rate</th>\n",
       "      <td>8763.0</td>\n",
       "      <td>75.02</td>\n",
       "      <td>20.55</td>\n",
       "      <td>40.0</td>\n",
       "      <td>57.00</td>\n",
       "      <td>75.00</td>\n",
       "      <td>93.00</td>\n",
       "      <td>110.0</td>\n",
       "    </tr>\n",
       "    <tr>\n",
       "      <th>Exercise Hours Per Week</th>\n",
       "      <td>8763.0</td>\n",
       "      <td>10.01</td>\n",
       "      <td>5.78</td>\n",
       "      <td>0.0</td>\n",
       "      <td>4.98</td>\n",
       "      <td>10.07</td>\n",
       "      <td>15.05</td>\n",
       "      <td>20.0</td>\n",
       "    </tr>\n",
       "    <tr>\n",
       "      <th>Stress Level</th>\n",
       "      <td>8763.0</td>\n",
       "      <td>5.47</td>\n",
       "      <td>2.86</td>\n",
       "      <td>1.0</td>\n",
       "      <td>3.00</td>\n",
       "      <td>5.00</td>\n",
       "      <td>8.00</td>\n",
       "      <td>10.0</td>\n",
       "    </tr>\n",
       "    <tr>\n",
       "      <th>Sedentary Hours Per Day</th>\n",
       "      <td>8763.0</td>\n",
       "      <td>5.99</td>\n",
       "      <td>3.47</td>\n",
       "      <td>0.0</td>\n",
       "      <td>3.00</td>\n",
       "      <td>5.93</td>\n",
       "      <td>9.02</td>\n",
       "      <td>12.0</td>\n",
       "    </tr>\n",
       "    <tr>\n",
       "      <th>Income</th>\n",
       "      <td>8763.0</td>\n",
       "      <td>158263.18</td>\n",
       "      <td>80575.19</td>\n",
       "      <td>20062.0</td>\n",
       "      <td>88310.00</td>\n",
       "      <td>157866.00</td>\n",
       "      <td>227749.00</td>\n",
       "      <td>299954.0</td>\n",
       "    </tr>\n",
       "    <tr>\n",
       "      <th>BMI</th>\n",
       "      <td>8763.0</td>\n",
       "      <td>28.89</td>\n",
       "      <td>6.32</td>\n",
       "      <td>18.0</td>\n",
       "      <td>23.42</td>\n",
       "      <td>28.77</td>\n",
       "      <td>34.32</td>\n",
       "      <td>40.0</td>\n",
       "    </tr>\n",
       "    <tr>\n",
       "      <th>Triglycerides</th>\n",
       "      <td>8763.0</td>\n",
       "      <td>417.68</td>\n",
       "      <td>223.75</td>\n",
       "      <td>30.0</td>\n",
       "      <td>225.50</td>\n",
       "      <td>417.00</td>\n",
       "      <td>612.00</td>\n",
       "      <td>800.0</td>\n",
       "    </tr>\n",
       "    <tr>\n",
       "      <th>Physical Activity Days Per Week</th>\n",
       "      <td>8763.0</td>\n",
       "      <td>3.49</td>\n",
       "      <td>2.28</td>\n",
       "      <td>0.0</td>\n",
       "      <td>2.00</td>\n",
       "      <td>3.00</td>\n",
       "      <td>5.00</td>\n",
       "      <td>7.0</td>\n",
       "    </tr>\n",
       "    <tr>\n",
       "      <th>Sleep Hours Per Day</th>\n",
       "      <td>8763.0</td>\n",
       "      <td>7.02</td>\n",
       "      <td>1.99</td>\n",
       "      <td>4.0</td>\n",
       "      <td>5.00</td>\n",
       "      <td>7.00</td>\n",
       "      <td>9.00</td>\n",
       "      <td>10.0</td>\n",
       "    </tr>\n",
       "    <tr>\n",
       "      <th>Heart Attack Risk</th>\n",
       "      <td>8763.0</td>\n",
       "      <td>0.36</td>\n",
       "      <td>0.48</td>\n",
       "      <td>0.0</td>\n",
       "      <td>0.00</td>\n",
       "      <td>0.00</td>\n",
       "      <td>1.00</td>\n",
       "      <td>1.0</td>\n",
       "    </tr>\n",
       "    <tr>\n",
       "      <th>systolic</th>\n",
       "      <td>8763.0</td>\n",
       "      <td>135.08</td>\n",
       "      <td>26.35</td>\n",
       "      <td>90.0</td>\n",
       "      <td>112.00</td>\n",
       "      <td>135.00</td>\n",
       "      <td>158.00</td>\n",
       "      <td>180.0</td>\n",
       "    </tr>\n",
       "    <tr>\n",
       "      <th>diastolic</th>\n",
       "      <td>8763.0</td>\n",
       "      <td>85.16</td>\n",
       "      <td>14.68</td>\n",
       "      <td>60.0</td>\n",
       "      <td>72.00</td>\n",
       "      <td>85.00</td>\n",
       "      <td>98.00</td>\n",
       "      <td>110.0</td>\n",
       "    </tr>\n",
       "  </tbody>\n",
       "</table>\n",
       "</div>"
      ],
      "text/plain": [
       "                                  count       mean       std      min  \\\n",
       "Age                              8763.0      53.71     21.25     18.0   \n",
       "Cholesterol                      8763.0     259.88     80.86    120.0   \n",
       "Heart Rate                       8763.0      75.02     20.55     40.0   \n",
       "Exercise Hours Per Week          8763.0      10.01      5.78      0.0   \n",
       "Stress Level                     8763.0       5.47      2.86      1.0   \n",
       "Sedentary Hours Per Day          8763.0       5.99      3.47      0.0   \n",
       "Income                           8763.0  158263.18  80575.19  20062.0   \n",
       "BMI                              8763.0      28.89      6.32     18.0   \n",
       "Triglycerides                    8763.0     417.68    223.75     30.0   \n",
       "Physical Activity Days Per Week  8763.0       3.49      2.28      0.0   \n",
       "Sleep Hours Per Day              8763.0       7.02      1.99      4.0   \n",
       "Heart Attack Risk                8763.0       0.36      0.48      0.0   \n",
       "systolic                         8763.0     135.08     26.35     90.0   \n",
       "diastolic                        8763.0      85.16     14.68     60.0   \n",
       "\n",
       "                                      25%        50%        75%       max  \n",
       "Age                                 35.00      54.00      72.00      90.0  \n",
       "Cholesterol                        192.00     259.00     330.00     400.0  \n",
       "Heart Rate                          57.00      75.00      93.00     110.0  \n",
       "Exercise Hours Per Week              4.98      10.07      15.05      20.0  \n",
       "Stress Level                         3.00       5.00       8.00      10.0  \n",
       "Sedentary Hours Per Day              3.00       5.93       9.02      12.0  \n",
       "Income                           88310.00  157866.00  227749.00  299954.0  \n",
       "BMI                                 23.42      28.77      34.32      40.0  \n",
       "Triglycerides                      225.50     417.00     612.00     800.0  \n",
       "Physical Activity Days Per Week      2.00       3.00       5.00       7.0  \n",
       "Sleep Hours Per Day                  5.00       7.00       9.00      10.0  \n",
       "Heart Attack Risk                    0.00       0.00       1.00       1.0  \n",
       "systolic                           112.00     135.00     158.00     180.0  \n",
       "diastolic                           72.00      85.00      98.00     110.0  "
      ]
     },
     "metadata": {},
     "output_type": "display_data"
    }
   ],
   "source": [
    "# Creating two different ABTs (Analytic Base Table), one for numerical columns and the other one for non numerical columns\n",
    "ABT_numerical=df.describe().round(2)\n",
    "numeric_cols = list(ABT_numerical.columns)\n",
    "non_numerical_cols = list(set(df.columns) - set(numeric_cols)-set(['Blood Pressure','Patient ID']))\n",
    "\n",
    "# Visualize the changes\n",
    "print(numeric_cols)\n",
    "display(ABT_numerical.T)"
   ]
  },
  {
   "cell_type": "markdown",
   "metadata": {},
   "source": [
    "### Changing data type of 'Physical Activity Days Per Week' and 'Sleep Hours Per Day' from numerical to categorical\n",
    "##### as you can see in the previous table both aformentioned columns can get specific value from 1 day to 7 days, so we can changing the type and classify them as categorical features"
   ]
  },
  {
   "cell_type": "code",
   "execution_count": 553,
   "metadata": {},
   "outputs": [],
   "source": [
    "df['Physical Activity Days Per Week']=df['Physical Activity Days Per Week'].astype(object)\n",
    "df['Sleep Hours Per Day']=df['Sleep Hours Per Day'].astype(object)"
   ]
  },
  {
   "cell_type": "code",
   "execution_count": 554,
   "metadata": {},
   "outputs": [
    {
     "name": "stdout",
     "output_type": "stream",
     "text": [
      "['Age', 'Cholesterol', 'Heart Rate', 'Exercise Hours Per Week', 'Stress Level', 'Sedentary Hours Per Day', 'Income', 'BMI', 'Triglycerides', 'Heart Attack Risk', 'systolic', 'diastolic']\n"
     ]
    },
    {
     "data": {
      "text/html": [
       "<div>\n",
       "<style scoped>\n",
       "    .dataframe tbody tr th:only-of-type {\n",
       "        vertical-align: middle;\n",
       "    }\n",
       "\n",
       "    .dataframe tbody tr th {\n",
       "        vertical-align: top;\n",
       "    }\n",
       "\n",
       "    .dataframe thead th {\n",
       "        text-align: right;\n",
       "    }\n",
       "</style>\n",
       "<table border=\"1\" class=\"dataframe\">\n",
       "  <thead>\n",
       "    <tr style=\"text-align: right;\">\n",
       "      <th></th>\n",
       "      <th>Age</th>\n",
       "      <th>Cholesterol</th>\n",
       "      <th>Heart Rate</th>\n",
       "      <th>Exercise Hours Per Week</th>\n",
       "      <th>Stress Level</th>\n",
       "      <th>Sedentary Hours Per Day</th>\n",
       "      <th>Income</th>\n",
       "      <th>BMI</th>\n",
       "      <th>Triglycerides</th>\n",
       "      <th>Heart Attack Risk</th>\n",
       "      <th>systolic</th>\n",
       "      <th>diastolic</th>\n",
       "    </tr>\n",
       "  </thead>\n",
       "  <tbody>\n",
       "    <tr>\n",
       "      <th>count</th>\n",
       "      <td>8763.00</td>\n",
       "      <td>8763.00</td>\n",
       "      <td>8763.00</td>\n",
       "      <td>8763.00</td>\n",
       "      <td>8763.00</td>\n",
       "      <td>8763.00</td>\n",
       "      <td>8763.00</td>\n",
       "      <td>8763.00</td>\n",
       "      <td>8763.00</td>\n",
       "      <td>8763.00</td>\n",
       "      <td>8763.00</td>\n",
       "      <td>8763.00</td>\n",
       "    </tr>\n",
       "    <tr>\n",
       "      <th>mean</th>\n",
       "      <td>53.71</td>\n",
       "      <td>259.88</td>\n",
       "      <td>75.02</td>\n",
       "      <td>10.01</td>\n",
       "      <td>5.47</td>\n",
       "      <td>5.99</td>\n",
       "      <td>158263.18</td>\n",
       "      <td>28.89</td>\n",
       "      <td>417.68</td>\n",
       "      <td>0.36</td>\n",
       "      <td>135.08</td>\n",
       "      <td>85.16</td>\n",
       "    </tr>\n",
       "    <tr>\n",
       "      <th>std</th>\n",
       "      <td>21.25</td>\n",
       "      <td>80.86</td>\n",
       "      <td>20.55</td>\n",
       "      <td>5.78</td>\n",
       "      <td>2.86</td>\n",
       "      <td>3.47</td>\n",
       "      <td>80575.19</td>\n",
       "      <td>6.32</td>\n",
       "      <td>223.75</td>\n",
       "      <td>0.48</td>\n",
       "      <td>26.35</td>\n",
       "      <td>14.68</td>\n",
       "    </tr>\n",
       "    <tr>\n",
       "      <th>min</th>\n",
       "      <td>18.00</td>\n",
       "      <td>120.00</td>\n",
       "      <td>40.00</td>\n",
       "      <td>0.00</td>\n",
       "      <td>1.00</td>\n",
       "      <td>0.00</td>\n",
       "      <td>20062.00</td>\n",
       "      <td>18.00</td>\n",
       "      <td>30.00</td>\n",
       "      <td>0.00</td>\n",
       "      <td>90.00</td>\n",
       "      <td>60.00</td>\n",
       "    </tr>\n",
       "    <tr>\n",
       "      <th>25%</th>\n",
       "      <td>35.00</td>\n",
       "      <td>192.00</td>\n",
       "      <td>57.00</td>\n",
       "      <td>4.98</td>\n",
       "      <td>3.00</td>\n",
       "      <td>3.00</td>\n",
       "      <td>88310.00</td>\n",
       "      <td>23.42</td>\n",
       "      <td>225.50</td>\n",
       "      <td>0.00</td>\n",
       "      <td>112.00</td>\n",
       "      <td>72.00</td>\n",
       "    </tr>\n",
       "    <tr>\n",
       "      <th>50%</th>\n",
       "      <td>54.00</td>\n",
       "      <td>259.00</td>\n",
       "      <td>75.00</td>\n",
       "      <td>10.07</td>\n",
       "      <td>5.00</td>\n",
       "      <td>5.93</td>\n",
       "      <td>157866.00</td>\n",
       "      <td>28.77</td>\n",
       "      <td>417.00</td>\n",
       "      <td>0.00</td>\n",
       "      <td>135.00</td>\n",
       "      <td>85.00</td>\n",
       "    </tr>\n",
       "    <tr>\n",
       "      <th>75%</th>\n",
       "      <td>72.00</td>\n",
       "      <td>330.00</td>\n",
       "      <td>93.00</td>\n",
       "      <td>15.05</td>\n",
       "      <td>8.00</td>\n",
       "      <td>9.02</td>\n",
       "      <td>227749.00</td>\n",
       "      <td>34.32</td>\n",
       "      <td>612.00</td>\n",
       "      <td>1.00</td>\n",
       "      <td>158.00</td>\n",
       "      <td>98.00</td>\n",
       "    </tr>\n",
       "    <tr>\n",
       "      <th>max</th>\n",
       "      <td>90.00</td>\n",
       "      <td>400.00</td>\n",
       "      <td>110.00</td>\n",
       "      <td>20.00</td>\n",
       "      <td>10.00</td>\n",
       "      <td>12.00</td>\n",
       "      <td>299954.00</td>\n",
       "      <td>40.00</td>\n",
       "      <td>800.00</td>\n",
       "      <td>1.00</td>\n",
       "      <td>180.00</td>\n",
       "      <td>110.00</td>\n",
       "    </tr>\n",
       "  </tbody>\n",
       "</table>\n",
       "</div>"
      ],
      "text/plain": [
       "           Age  Cholesterol  Heart Rate  Exercise Hours Per Week  \\\n",
       "count  8763.00      8763.00     8763.00                  8763.00   \n",
       "mean     53.71       259.88       75.02                    10.01   \n",
       "std      21.25        80.86       20.55                     5.78   \n",
       "min      18.00       120.00       40.00                     0.00   \n",
       "25%      35.00       192.00       57.00                     4.98   \n",
       "50%      54.00       259.00       75.00                    10.07   \n",
       "75%      72.00       330.00       93.00                    15.05   \n",
       "max      90.00       400.00      110.00                    20.00   \n",
       "\n",
       "       Stress Level  Sedentary Hours Per Day     Income      BMI  \\\n",
       "count       8763.00                  8763.00    8763.00  8763.00   \n",
       "mean           5.47                     5.99  158263.18    28.89   \n",
       "std            2.86                     3.47   80575.19     6.32   \n",
       "min            1.00                     0.00   20062.00    18.00   \n",
       "25%            3.00                     3.00   88310.00    23.42   \n",
       "50%            5.00                     5.93  157866.00    28.77   \n",
       "75%            8.00                     9.02  227749.00    34.32   \n",
       "max           10.00                    12.00  299954.00    40.00   \n",
       "\n",
       "       Triglycerides  Heart Attack Risk  systolic  diastolic  \n",
       "count        8763.00            8763.00   8763.00    8763.00  \n",
       "mean          417.68               0.36    135.08      85.16  \n",
       "std           223.75               0.48     26.35      14.68  \n",
       "min            30.00               0.00     90.00      60.00  \n",
       "25%           225.50               0.00    112.00      72.00  \n",
       "50%           417.00               0.00    135.00      85.00  \n",
       "75%           612.00               1.00    158.00      98.00  \n",
       "max           800.00               1.00    180.00     110.00  "
      ]
     },
     "metadata": {},
     "output_type": "display_data"
    }
   ],
   "source": [
    "# run the same code for creating ABT for numerical features without 2 columns:'Physical Activity Days Per Week' and 'Physical Activity Days Per Week'\n",
    "ABT_numerical=df.describe().round(2)\n",
    "numeric_cols = list(ABT_numerical.columns)\n",
    "non_numerical_cols = list(set(df.columns) - set(numeric_cols)-set(['Blood Pressure','Patient ID']))\n",
    "\n",
    "# Visualize the changes\n",
    "print(numeric_cols)\n",
    "display(ABT_numerical)"
   ]
  },
  {
   "cell_type": "code",
   "execution_count": 555,
   "metadata": {},
   "outputs": [
    {
     "data": {
      "text/html": [
       "<div>\n",
       "<style scoped>\n",
       "    .dataframe tbody tr th:only-of-type {\n",
       "        vertical-align: middle;\n",
       "    }\n",
       "\n",
       "    .dataframe tbody tr th {\n",
       "        vertical-align: top;\n",
       "    }\n",
       "\n",
       "    .dataframe thead th {\n",
       "        text-align: right;\n",
       "    }\n",
       "</style>\n",
       "<table border=\"1\" class=\"dataframe\">\n",
       "  <thead>\n",
       "    <tr style=\"text-align: right;\">\n",
       "      <th></th>\n",
       "      <th>count</th>\n",
       "      <th>unique</th>\n",
       "      <th>top</th>\n",
       "      <th>freq</th>\n",
       "    </tr>\n",
       "  </thead>\n",
       "  <tbody>\n",
       "    <tr>\n",
       "      <th>Diet</th>\n",
       "      <td>8763</td>\n",
       "      <td>3</td>\n",
       "      <td>Healthy</td>\n",
       "      <td>2960</td>\n",
       "    </tr>\n",
       "    <tr>\n",
       "      <th>Smoking</th>\n",
       "      <td>8763</td>\n",
       "      <td>2</td>\n",
       "      <td>True</td>\n",
       "      <td>7859</td>\n",
       "    </tr>\n",
       "    <tr>\n",
       "      <th>Previous Heart Problems</th>\n",
       "      <td>8763</td>\n",
       "      <td>2</td>\n",
       "      <td>False</td>\n",
       "      <td>4418</td>\n",
       "    </tr>\n",
       "    <tr>\n",
       "      <th>Diabetes</th>\n",
       "      <td>8763</td>\n",
       "      <td>2</td>\n",
       "      <td>True</td>\n",
       "      <td>5716</td>\n",
       "    </tr>\n",
       "    <tr>\n",
       "      <th>Physical Activity Days Per Week</th>\n",
       "      <td>8763</td>\n",
       "      <td>8</td>\n",
       "      <td>3</td>\n",
       "      <td>1143</td>\n",
       "    </tr>\n",
       "    <tr>\n",
       "      <th>Sex</th>\n",
       "      <td>8763</td>\n",
       "      <td>2</td>\n",
       "      <td>Male</td>\n",
       "      <td>6111</td>\n",
       "    </tr>\n",
       "    <tr>\n",
       "      <th>Country</th>\n",
       "      <td>8763</td>\n",
       "      <td>20</td>\n",
       "      <td>Germany</td>\n",
       "      <td>477</td>\n",
       "    </tr>\n",
       "    <tr>\n",
       "      <th>Continent</th>\n",
       "      <td>8763</td>\n",
       "      <td>6</td>\n",
       "      <td>Asia</td>\n",
       "      <td>2543</td>\n",
       "    </tr>\n",
       "    <tr>\n",
       "      <th>Obesity</th>\n",
       "      <td>8763</td>\n",
       "      <td>2</td>\n",
       "      <td>True</td>\n",
       "      <td>4394</td>\n",
       "    </tr>\n",
       "    <tr>\n",
       "      <th>Medication Use</th>\n",
       "      <td>8763</td>\n",
       "      <td>2</td>\n",
       "      <td>False</td>\n",
       "      <td>4396</td>\n",
       "    </tr>\n",
       "    <tr>\n",
       "      <th>Sleep Hours Per Day</th>\n",
       "      <td>8763</td>\n",
       "      <td>7</td>\n",
       "      <td>10</td>\n",
       "      <td>1293</td>\n",
       "    </tr>\n",
       "    <tr>\n",
       "      <th>Hemisphere</th>\n",
       "      <td>8763</td>\n",
       "      <td>2</td>\n",
       "      <td>Northern Hemisphere</td>\n",
       "      <td>5660</td>\n",
       "    </tr>\n",
       "    <tr>\n",
       "      <th>Alcohol Consumption</th>\n",
       "      <td>8763</td>\n",
       "      <td>2</td>\n",
       "      <td>True</td>\n",
       "      <td>5241</td>\n",
       "    </tr>\n",
       "    <tr>\n",
       "      <th>Family History</th>\n",
       "      <td>8763</td>\n",
       "      <td>2</td>\n",
       "      <td>False</td>\n",
       "      <td>4443</td>\n",
       "    </tr>\n",
       "  </tbody>\n",
       "</table>\n",
       "</div>"
      ],
      "text/plain": [
       "                                count unique                  top  freq\n",
       "Diet                             8763      3              Healthy  2960\n",
       "Smoking                          8763      2                 True  7859\n",
       "Previous Heart Problems          8763      2                False  4418\n",
       "Diabetes                         8763      2                 True  5716\n",
       "Physical Activity Days Per Week  8763      8                    3  1143\n",
       "Sex                              8763      2                 Male  6111\n",
       "Country                          8763     20              Germany   477\n",
       "Continent                        8763      6                 Asia  2543\n",
       "Obesity                          8763      2                 True  4394\n",
       "Medication Use                   8763      2                False  4396\n",
       "Sleep Hours Per Day              8763      7                   10  1293\n",
       "Hemisphere                       8763      2  Northern Hemisphere  5660\n",
       "Alcohol Consumption              8763      2                 True  5241\n",
       "Family History                   8763      2                False  4443"
      ]
     },
     "metadata": {},
     "output_type": "display_data"
    }
   ],
   "source": [
    "ABT_non_numerical= df[non_numerical_cols].describe().T\n",
    "\n",
    "display(ABT_non_numerical)"
   ]
  },
  {
   "cell_type": "markdown",
   "metadata": {},
   "source": [
    "### Classification of features of the dataset to three categories"
   ]
  },
  {
   "cell_type": "code",
   "execution_count": 556,
   "metadata": {},
   "outputs": [
    {
     "data": {
      "text/plain": [
       "(['Smoking',\n",
       "  'Previous Heart Problems',\n",
       "  'Diabetes',\n",
       "  'Obesity',\n",
       "  'Medication Use',\n",
       "  'Alcohol Consumption',\n",
       "  'Family History'],\n",
       " ['Diet',\n",
       "  'Physical Activity Days Per Week',\n",
       "  'Sex',\n",
       "  'Country',\n",
       "  'Continent',\n",
       "  'Sleep Hours Per Day',\n",
       "  'Hemisphere'],\n",
       " ['Sex', 'Country', 'Hemisphere', 'Continent'])"
      ]
     },
     "execution_count": 556,
     "metadata": {},
     "output_type": "execute_result"
    }
   ],
   "source": [
    "# bool_cols refer to faetures with 2 values 0 and 1 (binary)\n",
    "non_numerical_features= ABT_non_numerical.reset_index()\n",
    "bool_cols = non_numerical_features[(non_numerical_features['unique']==2)&(non_numerical_features['index']!='Heart Attack Risk')&\n",
    "(non_numerical_features['index']!='Sex')&(non_numerical_features['index']!='Hemisphere')]['index'].to_list()\n",
    "\n",
    "# categorical columns \n",
    "cat_cols = non_numerical_features[(non_numerical_features['unique']>2)|(non_numerical_features['index']=='Sex')|\n",
    "(non_numerical_features['index']=='Hemisphere')]['index'].to_list()\n",
    "\n",
    "# non ordinal categorical columns\n",
    "non_ordinal_cat_cols=list(set(cat_cols)-{'Sleep Hours Per Day','Physical Activity Days Per Week','Diet'})\n",
    "\n",
    "# 'Sleep Hours Per Day','Physical Activity Days Per Week' they already have int values so we don't need to encode them just we should change their type\n",
    "# 'obj' to 'int'\n",
    "df['Physical Activity Days Per Week']=df['Physical Activity Days Per Week'].astype(int)\n",
    "df['Sleep Hours Per Day']=df['Sleep Hours Per Day'].astype(int)\n",
    "\n",
    "bool_cols, cat_cols , non_ordinal_cat_cols"
   ]
  },
  {
   "cell_type": "code",
   "execution_count": 557,
   "metadata": {},
   "outputs": [],
   "source": [
    "for col in bool_cols: \n",
    "    df[col]=df[col].astype(int)"
   ]
  },
  {
   "cell_type": "code",
   "execution_count": 558,
   "metadata": {},
   "outputs": [],
   "source": [
    "# Diet is an ordinal feature so We used ordinal encoding for that, But the rest of categorical features which are not ordinal changeing to encode \n",
    "# by next function\n",
    "ORDINAL_MAP = {'Healthy':2,'Average':1,'Unhealthy':0}\n",
    "df['Diet'] = df['Diet'].map(ORDINAL_MAP)"
   ]
  },
  {
   "cell_type": "code",
   "execution_count": 559,
   "metadata": {},
   "outputs": [],
   "source": [
    "# encoding non_ordinal_features that the order do not matter for them such as 'Sex', 'Country', 'Hemisphere', 'Continent'\n",
    "def levels2index(levels):\n",
    "    dct = {}\n",
    "    for i in range(len(levels)):\n",
    "        dct[levels[i]] = i\n",
    "    return dct\n",
    "        \n",
    "for col in non_ordinal_cat_cols:\n",
    "    level_substitution = levels2index(df[col].unique())\n",
    "    df[col].replace(level_substitution, inplace=True)"
   ]
  },
  {
   "cell_type": "code",
   "execution_count": 560,
   "metadata": {},
   "outputs": [
    {
     "data": {
      "text/html": [
       "<div>\n",
       "<style scoped>\n",
       "    .dataframe tbody tr th:only-of-type {\n",
       "        vertical-align: middle;\n",
       "    }\n",
       "\n",
       "    .dataframe tbody tr th {\n",
       "        vertical-align: top;\n",
       "    }\n",
       "\n",
       "    .dataframe thead th {\n",
       "        text-align: right;\n",
       "    }\n",
       "</style>\n",
       "<table border=\"1\" class=\"dataframe\">\n",
       "  <thead>\n",
       "    <tr style=\"text-align: right;\">\n",
       "      <th></th>\n",
       "      <th>Patient ID</th>\n",
       "      <th>Age</th>\n",
       "      <th>Sex</th>\n",
       "      <th>Cholesterol</th>\n",
       "      <th>Blood Pressure</th>\n",
       "      <th>Heart Rate</th>\n",
       "      <th>Diabetes</th>\n",
       "      <th>Family History</th>\n",
       "      <th>Smoking</th>\n",
       "      <th>Obesity</th>\n",
       "      <th>...</th>\n",
       "      <th>BMI</th>\n",
       "      <th>Triglycerides</th>\n",
       "      <th>Physical Activity Days Per Week</th>\n",
       "      <th>Sleep Hours Per Day</th>\n",
       "      <th>Country</th>\n",
       "      <th>Continent</th>\n",
       "      <th>Hemisphere</th>\n",
       "      <th>Heart Attack Risk</th>\n",
       "      <th>systolic</th>\n",
       "      <th>diastolic</th>\n",
       "    </tr>\n",
       "  </thead>\n",
       "  <tbody>\n",
       "    <tr>\n",
       "      <th>0</th>\n",
       "      <td>BMW7812</td>\n",
       "      <td>67</td>\n",
       "      <td>0</td>\n",
       "      <td>208</td>\n",
       "      <td>158/88</td>\n",
       "      <td>72</td>\n",
       "      <td>0</td>\n",
       "      <td>0</td>\n",
       "      <td>1</td>\n",
       "      <td>0</td>\n",
       "      <td>...</td>\n",
       "      <td>31.251233</td>\n",
       "      <td>286</td>\n",
       "      <td>0</td>\n",
       "      <td>6</td>\n",
       "      <td>0</td>\n",
       "      <td>0</td>\n",
       "      <td>0</td>\n",
       "      <td>0</td>\n",
       "      <td>158</td>\n",
       "      <td>88</td>\n",
       "    </tr>\n",
       "    <tr>\n",
       "      <th>1</th>\n",
       "      <td>CZE1114</td>\n",
       "      <td>21</td>\n",
       "      <td>0</td>\n",
       "      <td>389</td>\n",
       "      <td>165/93</td>\n",
       "      <td>98</td>\n",
       "      <td>1</td>\n",
       "      <td>1</td>\n",
       "      <td>1</td>\n",
       "      <td>1</td>\n",
       "      <td>...</td>\n",
       "      <td>27.194973</td>\n",
       "      <td>235</td>\n",
       "      <td>1</td>\n",
       "      <td>7</td>\n",
       "      <td>1</td>\n",
       "      <td>1</td>\n",
       "      <td>1</td>\n",
       "      <td>0</td>\n",
       "      <td>165</td>\n",
       "      <td>93</td>\n",
       "    </tr>\n",
       "    <tr>\n",
       "      <th>2</th>\n",
       "      <td>BNI9906</td>\n",
       "      <td>21</td>\n",
       "      <td>1</td>\n",
       "      <td>324</td>\n",
       "      <td>174/99</td>\n",
       "      <td>72</td>\n",
       "      <td>1</td>\n",
       "      <td>0</td>\n",
       "      <td>0</td>\n",
       "      <td>0</td>\n",
       "      <td>...</td>\n",
       "      <td>28.176571</td>\n",
       "      <td>587</td>\n",
       "      <td>4</td>\n",
       "      <td>4</td>\n",
       "      <td>2</td>\n",
       "      <td>2</td>\n",
       "      <td>1</td>\n",
       "      <td>0</td>\n",
       "      <td>174</td>\n",
       "      <td>99</td>\n",
       "    </tr>\n",
       "    <tr>\n",
       "      <th>3</th>\n",
       "      <td>JLN3497</td>\n",
       "      <td>84</td>\n",
       "      <td>0</td>\n",
       "      <td>383</td>\n",
       "      <td>163/100</td>\n",
       "      <td>73</td>\n",
       "      <td>1</td>\n",
       "      <td>1</td>\n",
       "      <td>1</td>\n",
       "      <td>0</td>\n",
       "      <td>...</td>\n",
       "      <td>36.464704</td>\n",
       "      <td>378</td>\n",
       "      <td>3</td>\n",
       "      <td>4</td>\n",
       "      <td>1</td>\n",
       "      <td>1</td>\n",
       "      <td>1</td>\n",
       "      <td>0</td>\n",
       "      <td>163</td>\n",
       "      <td>100</td>\n",
       "    </tr>\n",
       "    <tr>\n",
       "      <th>4</th>\n",
       "      <td>GFO8847</td>\n",
       "      <td>66</td>\n",
       "      <td>0</td>\n",
       "      <td>318</td>\n",
       "      <td>91/88</td>\n",
       "      <td>93</td>\n",
       "      <td>1</td>\n",
       "      <td>1</td>\n",
       "      <td>1</td>\n",
       "      <td>1</td>\n",
       "      <td>...</td>\n",
       "      <td>21.809144</td>\n",
       "      <td>231</td>\n",
       "      <td>1</td>\n",
       "      <td>5</td>\n",
       "      <td>3</td>\n",
       "      <td>3</td>\n",
       "      <td>1</td>\n",
       "      <td>0</td>\n",
       "      <td>91</td>\n",
       "      <td>88</td>\n",
       "    </tr>\n",
       "  </tbody>\n",
       "</table>\n",
       "<p>5 rows × 28 columns</p>\n",
       "</div>"
      ],
      "text/plain": [
       "  Patient ID  Age  Sex  Cholesterol Blood Pressure  Heart Rate  Diabetes  \\\n",
       "0    BMW7812   67    0          208         158/88          72         0   \n",
       "1    CZE1114   21    0          389         165/93          98         1   \n",
       "2    BNI9906   21    1          324         174/99          72         1   \n",
       "3    JLN3497   84    0          383        163/100          73         1   \n",
       "4    GFO8847   66    0          318          91/88          93         1   \n",
       "\n",
       "   Family History  Smoking  Obesity  ...        BMI  Triglycerides  \\\n",
       "0               0        1        0  ...  31.251233            286   \n",
       "1               1        1        1  ...  27.194973            235   \n",
       "2               0        0        0  ...  28.176571            587   \n",
       "3               1        1        0  ...  36.464704            378   \n",
       "4               1        1        1  ...  21.809144            231   \n",
       "\n",
       "   Physical Activity Days Per Week  Sleep Hours Per Day  Country  Continent  \\\n",
       "0                                0                    6        0          0   \n",
       "1                                1                    7        1          1   \n",
       "2                                4                    4        2          2   \n",
       "3                                3                    4        1          1   \n",
       "4                                1                    5        3          3   \n",
       "\n",
       "   Hemisphere  Heart Attack Risk  systolic  diastolic  \n",
       "0           0                  0       158         88  \n",
       "1           1                  0       165         93  \n",
       "2           1                  0       174         99  \n",
       "3           1                  0       163        100  \n",
       "4           1                  0        91         88  \n",
       "\n",
       "[5 rows x 28 columns]"
      ]
     },
     "execution_count": 560,
     "metadata": {},
     "output_type": "execute_result"
    }
   ],
   "source": [
    "df.head()"
   ]
  },
  {
   "cell_type": "code",
   "execution_count": 561,
   "metadata": {},
   "outputs": [
    {
     "data": {
      "text/plain": [
       "Index(['Patient ID', 'Age', 'Sex', 'Cholesterol', 'Blood Pressure',\n",
       "       'Heart Rate', 'Diabetes', 'Family History', 'Smoking', 'Obesity',\n",
       "       'Alcohol Consumption', 'Exercise Hours Per Week', 'Diet',\n",
       "       'Previous Heart Problems', 'Medication Use', 'Stress Level',\n",
       "       'Sedentary Hours Per Day', 'Income', 'BMI', 'Triglycerides',\n",
       "       'Physical Activity Days Per Week', 'Sleep Hours Per Day', 'Country',\n",
       "       'Continent', 'Hemisphere', 'Heart Attack Risk', 'systolic',\n",
       "       'diastolic'],\n",
       "      dtype='object')"
      ]
     },
     "execution_count": 561,
     "metadata": {},
     "output_type": "execute_result"
    }
   ],
   "source": [
    "df.columns"
   ]
  },
  {
   "cell_type": "code",
   "execution_count": 562,
   "metadata": {},
   "outputs": [],
   "source": [
    "# Our feature variables for modelling \n",
    "X = df[['Age', 'Sex', 'Cholesterol','Heart Rate', 'Diabetes', 'Family History', 'Smoking', 'Obesity',\n",
    "       'Alcohol Consumption', 'Exercise Hours Per Week', 'Diet',\n",
    "       'Previous Heart Problems', 'Medication Use', 'Stress Level',\n",
    "       'Sedentary Hours Per Day', 'Income', 'BMI', 'Triglycerides',\n",
    "       'Physical Activity Days Per Week', 'Sleep Hours Per Day','systolic',\n",
    "       'diastolic']]\n",
    "\n",
    "# Our Target variabls for modelling      \n",
    "y=df['Heart Attack Risk'].values"
   ]
  },
  {
   "cell_type": "code",
   "execution_count": 563,
   "metadata": {},
   "outputs": [
    {
     "data": {
      "text/plain": [
       "Age                                  int64\n",
       "Sex                                  int64\n",
       "Cholesterol                          int64\n",
       "Heart Rate                           int64\n",
       "Diabetes                             int64\n",
       "Family History                       int64\n",
       "Smoking                              int64\n",
       "Obesity                              int64\n",
       "Alcohol Consumption                  int64\n",
       "Exercise Hours Per Week            float64\n",
       "Diet                                 int64\n",
       "Previous Heart Problems              int64\n",
       "Medication Use                       int64\n",
       "Stress Level                         int64\n",
       "Sedentary Hours Per Day            float64\n",
       "Income                               int64\n",
       "BMI                                float64\n",
       "Triglycerides                        int64\n",
       "Physical Activity Days Per Week      int64\n",
       "Sleep Hours Per Day                  int64\n",
       "systolic                             int64\n",
       "diastolic                            int64\n",
       "dtype: object"
      ]
     },
     "execution_count": 563,
     "metadata": {},
     "output_type": "execute_result"
    }
   ],
   "source": [
    "X.dtypes"
   ]
  },
  {
   "cell_type": "code",
   "execution_count": 564,
   "metadata": {},
   "outputs": [
    {
     "name": "stdout",
     "output_type": "stream",
     "text": [
      "[0 0 0 0 0 1 1 1 0 0]\n"
     ]
    }
   ],
   "source": [
    "print(y[0:10])"
   ]
  },
  {
   "cell_type": "markdown",
   "metadata": {},
   "source": [
    "# Divide data into training and validation sample"
   ]
  },
  {
   "cell_type": "code",
   "execution_count": 565,
   "metadata": {},
   "outputs": [
    {
     "name": "stdout",
     "output_type": "stream",
     "text": [
      "X_train: (6134, 22)\n",
      "X_test: (2629, 22)\n",
      "y_train: (6134,)\n",
      "y_test: (2629,)\n"
     ]
    }
   ],
   "source": [
    "from sklearn.model_selection import train_test_split\n",
    "\n",
    "X_train, X_test, y_train, y_test = train_test_split(X, y,\n",
    "                                                    test_size=0.3,\n",
    "                                                    stratify=y,\n",
    "                                                    random_state=42)\n",
    "\n",
    "print(f'X_train: {X_train.shape}')\n",
    "print(f'X_test: {X_test.shape}')\n",
    "print(f'y_train: {y_train.shape}')\n",
    "print(f'y_test: {y_test.shape}')"
   ]
  },
  {
   "cell_type": "markdown",
   "metadata": {},
   "source": [
    "### Data Scaling"
   ]
  },
  {
   "cell_type": "code",
   "execution_count": 566,
   "metadata": {},
   "outputs": [],
   "source": [
    "# making dataset values comparable to each other\n",
    "from sklearn.preprocessing import StandardScaler\n",
    "\n",
    "scaler = StandardScaler()\n",
    "scaler.fit(X_train)\n",
    "X_train_scal = scaler.transform(X_train)\n",
    "X_test_scal = scaler.transform(X_test)"
   ]
  },
  {
   "cell_type": "code",
   "execution_count": 567,
   "metadata": {},
   "outputs": [
    {
     "name": "stdout",
     "output_type": "stream",
     "text": [
      "LogisticRegression()\n",
      "Accuracy of Logistic_Regression:  0.6416888550779765\n",
      "Precision of Logistic_Regression:  1.0\n",
      "Classification Report:\n",
      "              precision    recall  f1-score   support\n",
      "\n",
      "           0       0.64      1.00      0.78      1687\n",
      "           1       0.00      0.00      0.00       942\n",
      "\n",
      "    accuracy                           0.64      2629\n",
      "   macro avg       0.32      0.50      0.39      2629\n",
      "weighted avg       0.41      0.64      0.50      2629\n",
      "\n",
      "Confusion Matrix:\n",
      "[[1687    0]\n",
      " [ 942    0]]\n",
      "RandomForestClassifier()\n"
     ]
    },
    {
     "name": "stderr",
     "output_type": "stream",
     "text": [
      "Precision and F-score are ill-defined and being set to 0.0 in labels with no predicted samples. Use `zero_division` parameter to control this behavior.\n",
      "Precision and F-score are ill-defined and being set to 0.0 in labels with no predicted samples. Use `zero_division` parameter to control this behavior.\n",
      "Precision and F-score are ill-defined and being set to 0.0 in labels with no predicted samples. Use `zero_division` parameter to control this behavior.\n"
     ]
    },
    {
     "name": "stdout",
     "output_type": "stream",
     "text": [
      "Accuracy of Random_Forest:  0.6397869912514264\n",
      "Precision of Random_Forest:  0.4647887323943662\n",
      "Classification Report:\n",
      "              precision    recall  f1-score   support\n",
      "\n",
      "           0       0.64      0.98      0.78      1687\n",
      "           1       0.46      0.04      0.07       942\n",
      "\n",
      "    accuracy                           0.64      2629\n",
      "   macro avg       0.55      0.51      0.42      2629\n",
      "weighted avg       0.58      0.64      0.52      2629\n",
      "\n",
      "Confusion Matrix:\n",
      "[[1649   38]\n",
      " [ 909   33]]\n",
      "DecisionTreeClassifier(random_state=42)\n",
      "Accuracy of Decision_Tree:  0.5207303157093952\n",
      "Precision of Decision_Tree:  0.33709016393442626\n",
      "Classification Report:\n",
      "              precision    recall  f1-score   support\n",
      "\n",
      "           0       0.63      0.62      0.62      1687\n",
      "           1       0.34      0.35      0.34       942\n",
      "\n",
      "    accuracy                           0.52      2629\n",
      "   macro avg       0.48      0.48      0.48      2629\n",
      "weighted avg       0.52      0.52      0.52      2629\n",
      "\n",
      "Confusion Matrix:\n",
      "[[1040  647]\n",
      " [ 613  329]]\n",
      "SVC()\n",
      "Accuracy of SVM:  0.6413084823126665\n",
      "Precision of SVM:  0.0\n",
      "Classification Report:\n",
      "              precision    recall  f1-score   support\n",
      "\n",
      "           0       0.64      1.00      0.78      1687\n",
      "           1       0.00      0.00      0.00       942\n",
      "\n",
      "    accuracy                           0.64      2629\n",
      "   macro avg       0.32      0.50      0.39      2629\n",
      "weighted avg       0.41      0.64      0.50      2629\n",
      "\n",
      "Confusion Matrix:\n",
      "[[1686    1]\n",
      " [ 942    0]]\n",
      "KNeighborsClassifier(n_neighbors=10)\n",
      "Accuracy of KNN:  0.606694560669456\n",
      "Precision of KNN:  0.3230769230769231\n",
      "Classification Report:\n",
      "              precision    recall  f1-score   support\n",
      "\n",
      "           0       0.64      0.90      0.75      1687\n",
      "           1       0.32      0.09      0.14       942\n",
      "\n",
      "    accuracy                           0.61      2629\n",
      "   macro avg       0.48      0.49      0.44      2629\n",
      "weighted avg       0.53      0.61      0.53      2629\n",
      "\n",
      "Confusion Matrix:\n",
      "[[1511  176]\n",
      " [ 858   84]]\n",
      "GaussianNB()\n",
      "Accuracy of Naive_Bayes:  0.6416888550779765\n",
      "Precision of Naive_Bayes:  1.0\n",
      "Classification Report:\n",
      "              precision    recall  f1-score   support\n",
      "\n",
      "           0       0.64      1.00      0.78      1687\n",
      "           1       0.00      0.00      0.00       942\n",
      "\n",
      "    accuracy                           0.64      2629\n",
      "   macro avg       0.32      0.50      0.39      2629\n",
      "weighted avg       0.41      0.64      0.50      2629\n",
      "\n",
      "Confusion Matrix:\n",
      "[[1687    0]\n",
      " [ 942    0]]\n"
     ]
    },
    {
     "name": "stderr",
     "output_type": "stream",
     "text": [
      "Precision and F-score are ill-defined and being set to 0.0 in labels with no predicted samples. Use `zero_division` parameter to control this behavior.\n",
      "Precision and F-score are ill-defined and being set to 0.0 in labels with no predicted samples. Use `zero_division` parameter to control this behavior.\n",
      "Precision and F-score are ill-defined and being set to 0.0 in labels with no predicted samples. Use `zero_division` parameter to control this behavior.\n"
     ]
    }
   ],
   "source": [
    "#from helper_functionss import prediction_models\n",
    "prediction_models(X_train_scal, y_train, X_test_scal, y_test)"
   ]
  },
  {
   "cell_type": "markdown",
   "metadata": {},
   "source": [
    "### WE choose Random Forest Model Because of the higher recall Ratio which is so important about this dataset. So we do feature selection to check if we can get better result or not."
   ]
  },
  {
   "cell_type": "code",
   "execution_count": 568,
   "metadata": {},
   "outputs": [
    {
     "data": {
      "text/html": [
       "<style>#sk-container-id-16 {color: black;}#sk-container-id-16 pre{padding: 0;}#sk-container-id-16 div.sk-toggleable {background-color: white;}#sk-container-id-16 label.sk-toggleable__label {cursor: pointer;display: block;width: 100%;margin-bottom: 0;padding: 0.3em;box-sizing: border-box;text-align: center;}#sk-container-id-16 label.sk-toggleable__label-arrow:before {content: \"▸\";float: left;margin-right: 0.25em;color: #696969;}#sk-container-id-16 label.sk-toggleable__label-arrow:hover:before {color: black;}#sk-container-id-16 div.sk-estimator:hover label.sk-toggleable__label-arrow:before {color: black;}#sk-container-id-16 div.sk-toggleable__content {max-height: 0;max-width: 0;overflow: hidden;text-align: left;background-color: #f0f8ff;}#sk-container-id-16 div.sk-toggleable__content pre {margin: 0.2em;color: black;border-radius: 0.25em;background-color: #f0f8ff;}#sk-container-id-16 input.sk-toggleable__control:checked~div.sk-toggleable__content {max-height: 200px;max-width: 100%;overflow: auto;}#sk-container-id-16 input.sk-toggleable__control:checked~label.sk-toggleable__label-arrow:before {content: \"▾\";}#sk-container-id-16 div.sk-estimator input.sk-toggleable__control:checked~label.sk-toggleable__label {background-color: #d4ebff;}#sk-container-id-16 div.sk-label input.sk-toggleable__control:checked~label.sk-toggleable__label {background-color: #d4ebff;}#sk-container-id-16 input.sk-hidden--visually {border: 0;clip: rect(1px 1px 1px 1px);clip: rect(1px, 1px, 1px, 1px);height: 1px;margin: -1px;overflow: hidden;padding: 0;position: absolute;width: 1px;}#sk-container-id-16 div.sk-estimator {font-family: monospace;background-color: #f0f8ff;border: 1px dotted black;border-radius: 0.25em;box-sizing: border-box;margin-bottom: 0.5em;}#sk-container-id-16 div.sk-estimator:hover {background-color: #d4ebff;}#sk-container-id-16 div.sk-parallel-item::after {content: \"\";width: 100%;border-bottom: 1px solid gray;flex-grow: 1;}#sk-container-id-16 div.sk-label:hover label.sk-toggleable__label {background-color: #d4ebff;}#sk-container-id-16 div.sk-serial::before {content: \"\";position: absolute;border-left: 1px solid gray;box-sizing: border-box;top: 0;bottom: 0;left: 50%;z-index: 0;}#sk-container-id-16 div.sk-serial {display: flex;flex-direction: column;align-items: center;background-color: white;padding-right: 0.2em;padding-left: 0.2em;position: relative;}#sk-container-id-16 div.sk-item {position: relative;z-index: 1;}#sk-container-id-16 div.sk-parallel {display: flex;align-items: stretch;justify-content: center;background-color: white;position: relative;}#sk-container-id-16 div.sk-item::before, #sk-container-id-16 div.sk-parallel-item::before {content: \"\";position: absolute;border-left: 1px solid gray;box-sizing: border-box;top: 0;bottom: 0;left: 50%;z-index: -1;}#sk-container-id-16 div.sk-parallel-item {display: flex;flex-direction: column;z-index: 1;position: relative;background-color: white;}#sk-container-id-16 div.sk-parallel-item:first-child::after {align-self: flex-end;width: 50%;}#sk-container-id-16 div.sk-parallel-item:last-child::after {align-self: flex-start;width: 50%;}#sk-container-id-16 div.sk-parallel-item:only-child::after {width: 0;}#sk-container-id-16 div.sk-dashed-wrapped {border: 1px dashed gray;margin: 0 0.4em 0.5em 0.4em;box-sizing: border-box;padding-bottom: 0.4em;background-color: white;}#sk-container-id-16 div.sk-label label {font-family: monospace;font-weight: bold;display: inline-block;line-height: 1.2em;}#sk-container-id-16 div.sk-label-container {text-align: center;}#sk-container-id-16 div.sk-container {/* jupyter's `normalize.less` sets `[hidden] { display: none; }` but bootstrap.min.css set `[hidden] { display: none !important; }` so we also need the `!important` here to be able to override the default hidden behavior on the sphinx rendered scikit-learn.org. See: https://github.com/scikit-learn/scikit-learn/issues/21755 */display: inline-block !important;position: relative;}#sk-container-id-16 div.sk-text-repr-fallback {display: none;}</style><div id=\"sk-container-id-16\" class=\"sk-top-container\"><div class=\"sk-text-repr-fallback\"><pre>RandomForestClassifier()</pre><b>In a Jupyter environment, please rerun this cell to show the HTML representation or trust the notebook. <br />On GitHub, the HTML representation is unable to render, please try loading this page with nbviewer.org.</b></div><div class=\"sk-container\" hidden><div class=\"sk-item\"><div class=\"sk-estimator sk-toggleable\"><input class=\"sk-toggleable__control sk-hidden--visually\" id=\"sk-estimator-id-16\" type=\"checkbox\" checked><label for=\"sk-estimator-id-16\" class=\"sk-toggleable__label sk-toggleable__label-arrow\">RandomForestClassifier</label><div class=\"sk-toggleable__content\"><pre>RandomForestClassifier()</pre></div></div></div></div></div>"
      ],
      "text/plain": [
       "RandomForestClassifier()"
      ]
     },
     "execution_count": 568,
     "metadata": {},
     "output_type": "execute_result"
    },
    {
     "data": {
      "text/plain": [
       "<Figure size 1080x576 with 0 Axes>"
      ]
     },
     "metadata": {},
     "output_type": "display_data"
    }
   ],
   "source": [
    "import matplotlib.pyplot as plt\n",
    "\n",
    "fig = plt.figure(figsize=(15,8))\n",
    "clf =RandomForestClassifier()\n",
    "clf.fit(X_train, y_train)\n"
   ]
  },
  {
   "cell_type": "markdown",
   "metadata": {},
   "source": [
    "### Features selection with 2 methods: SHAP & Correlation by Pirson\n",
    "#### We want to see by applying feature selection can we get better accuracy from our model"
   ]
  },
  {
   "cell_type": "code",
   "execution_count": 569,
   "metadata": {},
   "outputs": [
    {
     "data": {
      "image/png": "[encoded data removed]",
      "text/plain": [
       "<Figure size 576x684 with 1 Axes>"
      ]
     },
     "metadata": {
      "needs_background": "light"
     },
     "output_type": "display_data"
    }
   ],
   "source": [
    "# We use Shap library wirh TreeExplainer to select best feature for decision tree classifier \n",
    "import shap\n",
    "\n",
    "shap_values = shap.TreeExplainer(clf).shap_values(X_test, )\n",
    "shap.summary_plot(shap_values, X_train, plot_type=\"bar\", feature_names = ['Age', 'Sex', 'Cholesterol','Heart Rate', 'Diabetes', 'Family History', 'Smoking', 'Obesity',\n",
    "       'Alcohol Consumption', 'Exercise Hours Per Week', 'Diet',\n",
    "       'Previous Heart Problems', 'Medication Use', 'Stress Level',\n",
    "       'Sedentary Hours Per Day', 'Income', 'BMI', 'Triglycerides',\n",
    "       'Physical Activity Days Per Week', 'Sleep Hours Per Day','systolic',\n",
    "       'diastolic'])"
   ]
  },
  {
   "cell_type": "code",
   "execution_count": 570,
   "metadata": {},
   "outputs": [
    {
     "name": "stdout",
     "output_type": "stream",
     "text": [
      "['Cholesterol' 'Heart Rate' 'Diabetes' 'Obesity' 'Alcohol Consumption'\n",
      " 'Sedentary Hours Per Day' 'Income' 'Triglycerides' 'Sleep Hours Per Day'\n",
      " 'diastolic']\n"
     ]
    }
   ],
   "source": [
    "from sklearn.feature_selection import SelectKBest, f_regression, f_classif\n",
    "\n",
    "# Correlation by Pirson is another way for feature selection\n",
    "selector = SelectKBest(f_regression, k=10)\n",
    "selector.fit(X_train, y_train)\n",
    " \n",
    "features_corr = selector.get_feature_names_out()\n",
    "print(features_corr)"
   ]
  },
  {
   "cell_type": "code",
   "execution_count": 571,
   "metadata": {},
   "outputs": [],
   "source": [
    "X_feasure_selected=df[['Cholesterol','Heart Rate','Exercise Hours Per Week',\n",
    " 'Sedentary Hours Per Day', 'Income' ,'Triglycerides' ,'Sleep Hours Per Day','BMI', 'Age',\n",
    " 'diastolic']]"
   ]
  },
  {
   "cell_type": "markdown",
   "metadata": {},
   "source": [
    "### Running models for selected features"
   ]
  },
  {
   "cell_type": "code",
   "execution_count": 572,
   "metadata": {},
   "outputs": [
    {
     "name": "stdout",
     "output_type": "stream",
     "text": [
      "X_train: (6134, 10)\n",
      "X_test: (2629, 10)\n",
      "y_train: (6134,)\n",
      "y_test: (2629,)\n"
     ]
    }
   ],
   "source": [
    "from sklearn.model_selection import train_test_split\n",
    "\n",
    "selected_feature_X_train, selected_feature_X_test, selected_feature_y_train, selected_feature_y_test = train_test_split(X_feasure_selected, y,\n",
    "                                                    test_size=0.3,\n",
    "                                                    stratify=y,\n",
    "                                                    random_state=42)\n",
    "print(f'X_train: {selected_feature_X_train.shape}')\n",
    "print(f'X_test: {selected_feature_X_test.shape}')\n",
    "print(f'y_train: {selected_feature_y_train.shape}')\n",
    "print(f'y_test: {selected_feature_y_test.shape}')"
   ]
  },
  {
   "cell_type": "code",
   "execution_count": 573,
   "metadata": {},
   "outputs": [],
   "source": [
    "from sklearn.preprocessing import StandardScaler\n",
    "\n",
    "scaler = StandardScaler()\n",
    "scaler.fit(selected_feature_X_train)\n",
    "X2_train_scal = scaler.transform(selected_feature_X_train)\n",
    "X2_test_scal = scaler.transform(selected_feature_X_test)"
   ]
  },
  {
   "cell_type": "code",
   "execution_count": 574,
   "metadata": {},
   "outputs": [
    {
     "data": {
      "text/html": [
       "<style>#sk-container-id-17 {color: black;}#sk-container-id-17 pre{padding: 0;}#sk-container-id-17 div.sk-toggleable {background-color: white;}#sk-container-id-17 label.sk-toggleable__label {cursor: pointer;display: block;width: 100%;margin-bottom: 0;padding: 0.3em;box-sizing: border-box;text-align: center;}#sk-container-id-17 label.sk-toggleable__label-arrow:before {content: \"▸\";float: left;margin-right: 0.25em;color: #696969;}#sk-container-id-17 label.sk-toggleable__label-arrow:hover:before {color: black;}#sk-container-id-17 div.sk-estimator:hover label.sk-toggleable__label-arrow:before {color: black;}#sk-container-id-17 div.sk-toggleable__content {max-height: 0;max-width: 0;overflow: hidden;text-align: left;background-color: #f0f8ff;}#sk-container-id-17 div.sk-toggleable__content pre {margin: 0.2em;color: black;border-radius: 0.25em;background-color: #f0f8ff;}#sk-container-id-17 input.sk-toggleable__control:checked~div.sk-toggleable__content {max-height: 200px;max-width: 100%;overflow: auto;}#sk-container-id-17 input.sk-toggleable__control:checked~label.sk-toggleable__label-arrow:before {content: \"▾\";}#sk-container-id-17 div.sk-estimator input.sk-toggleable__control:checked~label.sk-toggleable__label {background-color: #d4ebff;}#sk-container-id-17 div.sk-label input.sk-toggleable__control:checked~label.sk-toggleable__label {background-color: #d4ebff;}#sk-container-id-17 input.sk-hidden--visually {border: 0;clip: rect(1px 1px 1px 1px);clip: rect(1px, 1px, 1px, 1px);height: 1px;margin: -1px;overflow: hidden;padding: 0;position: absolute;width: 1px;}#sk-container-id-17 div.sk-estimator {font-family: monospace;background-color: #f0f8ff;border: 1px dotted black;border-radius: 0.25em;box-sizing: border-box;margin-bottom: 0.5em;}#sk-container-id-17 div.sk-estimator:hover {background-color: #d4ebff;}#sk-container-id-17 div.sk-parallel-item::after {content: \"\";width: 100%;border-bottom: 1px solid gray;flex-grow: 1;}#sk-container-id-17 div.sk-label:hover label.sk-toggleable__label {background-color: #d4ebff;}#sk-container-id-17 div.sk-serial::before {content: \"\";position: absolute;border-left: 1px solid gray;box-sizing: border-box;top: 0;bottom: 0;left: 50%;z-index: 0;}#sk-container-id-17 div.sk-serial {display: flex;flex-direction: column;align-items: center;background-color: white;padding-right: 0.2em;padding-left: 0.2em;position: relative;}#sk-container-id-17 div.sk-item {position: relative;z-index: 1;}#sk-container-id-17 div.sk-parallel {display: flex;align-items: stretch;justify-content: center;background-color: white;position: relative;}#sk-container-id-17 div.sk-item::before, #sk-container-id-17 div.sk-parallel-item::before {content: \"\";position: absolute;border-left: 1px solid gray;box-sizing: border-box;top: 0;bottom: 0;left: 50%;z-index: -1;}#sk-container-id-17 div.sk-parallel-item {display: flex;flex-direction: column;z-index: 1;position: relative;background-color: white;}#sk-container-id-17 div.sk-parallel-item:first-child::after {align-self: flex-end;width: 50%;}#sk-container-id-17 div.sk-parallel-item:last-child::after {align-self: flex-start;width: 50%;}#sk-container-id-17 div.sk-parallel-item:only-child::after {width: 0;}#sk-container-id-17 div.sk-dashed-wrapped {border: 1px dashed gray;margin: 0 0.4em 0.5em 0.4em;box-sizing: border-box;padding-bottom: 0.4em;background-color: white;}#sk-container-id-17 div.sk-label label {font-family: monospace;font-weight: bold;display: inline-block;line-height: 1.2em;}#sk-container-id-17 div.sk-label-container {text-align: center;}#sk-container-id-17 div.sk-container {/* jupyter's `normalize.less` sets `[hidden] { display: none; }` but bootstrap.min.css set `[hidden] { display: none !important; }` so we also need the `!important` here to be able to override the default hidden behavior on the sphinx rendered scikit-learn.org. See: https://github.com/scikit-learn/scikit-learn/issues/21755 */display: inline-block !important;position: relative;}#sk-container-id-17 div.sk-text-repr-fallback {display: none;}</style><div id=\"sk-container-id-17\" class=\"sk-top-container\"><div class=\"sk-text-repr-fallback\"><pre>RandomForestClassifier(random_state=42)</pre><b>In a Jupyter environment, please rerun this cell to show the HTML representation or trust the notebook. <br />On GitHub, the HTML representation is unable to render, please try loading this page with nbviewer.org.</b></div><div class=\"sk-container\" hidden><div class=\"sk-item\"><div class=\"sk-estimator sk-toggleable\"><input class=\"sk-toggleable__control sk-hidden--visually\" id=\"sk-estimator-id-17\" type=\"checkbox\" checked><label for=\"sk-estimator-id-17\" class=\"sk-toggleable__label sk-toggleable__label-arrow\">RandomForestClassifier</label><div class=\"sk-toggleable__content\"><pre>RandomForestClassifier(random_state=42)</pre></div></div></div></div></div>"
      ],
      "text/plain": [
       "RandomForestClassifier(random_state=42)"
      ]
     },
     "execution_count": 574,
     "metadata": {},
     "output_type": "execute_result"
    }
   ],
   "source": [
    "rf_model = RandomForestClassifier(random_state=42)\n",
    "rf_model.fit(X2_train_scal, selected_feature_y_train)"
   ]
  },
  {
   "cell_type": "code",
   "execution_count": 575,
   "metadata": {},
   "outputs": [
    {
     "name": "stdout",
     "output_type": "stream",
     "text": [
      "Accuracy: 0.6211487257512363\n",
      "Classification Report:\n",
      "               precision    recall  f1-score   support\n",
      "\n",
      "           0       0.64      0.94      0.76      1687\n",
      "           1       0.31      0.05      0.08       942\n",
      "\n",
      "    accuracy                           0.62      2629\n",
      "   macro avg       0.47      0.49      0.42      2629\n",
      "weighted avg       0.52      0.62      0.52      2629\n",
      "\n",
      "Confusion Matrix:\n",
      " [[1590   97]\n",
      " [ 899   43]]\n"
     ]
    }
   ],
   "source": [
    "# we can not see any improvement after feature selection\n",
    "from sklearn.metrics import accuracy_score, classification_report, confusion_matrix\n",
    "\n",
    "# Predictions on the test set\n",
    "y_pred = rf_model.predict(X2_test_scal)\n",
    "\n",
    "# Evaluating the model\n",
    "print(\"Accuracy:\", accuracy_score(y_test, y_pred))\n",
    "print(\"Classification Report:\\n\", classification_report(y_test, y_pred))\n",
    "print(\"Confusion Matrix:\\n\", confusion_matrix(y_test, y_pred))"
   ]
  },
  {
   "cell_type": "markdown",
   "metadata": {},
   "source": [
    "# Hyperparameter Tuning of Random Forest Model\n"
   ]
  },
  {
   "cell_type": "code",
   "execution_count": 579,
   "metadata": {},
   "outputs": [
    {
     "name": "stdout",
     "output_type": "stream",
     "text": [
      "Fitting 8 folds for each of 108 candidates, totalling 864 fits\n"
     ]
    },
    {
     "data": {
      "text/plain": [
       "0.641832561163667"
      ]
     },
     "execution_count": 579,
     "metadata": {},
     "output_type": "execute_result"
    }
   ],
   "source": [
    "Hyper = [{'n_estimators':[100,200,400], 'max_depth':[None, 5,10,15],\n",
    "        'min_samples_split':[3,5,9] , 'min_samples_leaf':[1,2,3]}]\n",
    "\n",
    "#Set parameters\n",
    "search = GridSearchCV(estimator = rfc, param_grid = Hyper, scoring = 'accuracy', cv=8,\n",
    "                    n_jobs = -1,verbose = 2)\n",
    "search = search.fit(X2_train_scal, selected_feature_y_train)\n",
    "search.best_score_"
   ]
  },
  {
   "cell_type": "code",
   "execution_count": 580,
   "metadata": {},
   "outputs": [
    {
     "data": {
      "text/plain": [
       "{'max_depth': 5,\n",
       " 'min_samples_leaf': 1,\n",
       " 'min_samples_split': 5,\n",
       " 'n_estimators': 100}"
      ]
     },
     "execution_count": 580,
     "metadata": {},
     "output_type": "execute_result"
    }
   ],
   "source": [
    "search.best_params_"
   ]
  },
  {
   "cell_type": "code",
   "execution_count": 581,
   "metadata": {},
   "outputs": [
    {
     "data": {
      "text/html": [
       "<style>#sk-container-id-18 {color: black;}#sk-container-id-18 pre{padding: 0;}#sk-container-id-18 div.sk-toggleable {background-color: white;}#sk-container-id-18 label.sk-toggleable__label {cursor: pointer;display: block;width: 100%;margin-bottom: 0;padding: 0.3em;box-sizing: border-box;text-align: center;}#sk-container-id-18 label.sk-toggleable__label-arrow:before {content: \"▸\";float: left;margin-right: 0.25em;color: #696969;}#sk-container-id-18 label.sk-toggleable__label-arrow:hover:before {color: black;}#sk-container-id-18 div.sk-estimator:hover label.sk-toggleable__label-arrow:before {color: black;}#sk-container-id-18 div.sk-toggleable__content {max-height: 0;max-width: 0;overflow: hidden;text-align: left;background-color: #f0f8ff;}#sk-container-id-18 div.sk-toggleable__content pre {margin: 0.2em;color: black;border-radius: 0.25em;background-color: #f0f8ff;}#sk-container-id-18 input.sk-toggleable__control:checked~div.sk-toggleable__content {max-height: 200px;max-width: 100%;overflow: auto;}#sk-container-id-18 input.sk-toggleable__control:checked~label.sk-toggleable__label-arrow:before {content: \"▾\";}#sk-container-id-18 div.sk-estimator input.sk-toggleable__control:checked~label.sk-toggleable__label {background-color: #d4ebff;}#sk-container-id-18 div.sk-label input.sk-toggleable__control:checked~label.sk-toggleable__label {background-color: #d4ebff;}#sk-container-id-18 input.sk-hidden--visually {border: 0;clip: rect(1px 1px 1px 1px);clip: rect(1px, 1px, 1px, 1px);height: 1px;margin: -1px;overflow: hidden;padding: 0;position: absolute;width: 1px;}#sk-container-id-18 div.sk-estimator {font-family: monospace;background-color: #f0f8ff;border: 1px dotted black;border-radius: 0.25em;box-sizing: border-box;margin-bottom: 0.5em;}#sk-container-id-18 div.sk-estimator:hover {background-color: #d4ebff;}#sk-container-id-18 div.sk-parallel-item::after {content: \"\";width: 100%;border-bottom: 1px solid gray;flex-grow: 1;}#sk-container-id-18 div.sk-label:hover label.sk-toggleable__label {background-color: #d4ebff;}#sk-container-id-18 div.sk-serial::before {content: \"\";position: absolute;border-left: 1px solid gray;box-sizing: border-box;top: 0;bottom: 0;left: 50%;z-index: 0;}#sk-container-id-18 div.sk-serial {display: flex;flex-direction: column;align-items: center;background-color: white;padding-right: 0.2em;padding-left: 0.2em;position: relative;}#sk-container-id-18 div.sk-item {position: relative;z-index: 1;}#sk-container-id-18 div.sk-parallel {display: flex;align-items: stretch;justify-content: center;background-color: white;position: relative;}#sk-container-id-18 div.sk-item::before, #sk-container-id-18 div.sk-parallel-item::before {content: \"\";position: absolute;border-left: 1px solid gray;box-sizing: border-box;top: 0;bottom: 0;left: 50%;z-index: -1;}#sk-container-id-18 div.sk-parallel-item {display: flex;flex-direction: column;z-index: 1;position: relative;background-color: white;}#sk-container-id-18 div.sk-parallel-item:first-child::after {align-self: flex-end;width: 50%;}#sk-container-id-18 div.sk-parallel-item:last-child::after {align-self: flex-start;width: 50%;}#sk-container-id-18 div.sk-parallel-item:only-child::after {width: 0;}#sk-container-id-18 div.sk-dashed-wrapped {border: 1px dashed gray;margin: 0 0.4em 0.5em 0.4em;box-sizing: border-box;padding-bottom: 0.4em;background-color: white;}#sk-container-id-18 div.sk-label label {font-family: monospace;font-weight: bold;display: inline-block;line-height: 1.2em;}#sk-container-id-18 div.sk-label-container {text-align: center;}#sk-container-id-18 div.sk-container {/* jupyter's `normalize.less` sets `[hidden] { display: none; }` but bootstrap.min.css set `[hidden] { display: none !important; }` so we also need the `!important` here to be able to override the default hidden behavior on the sphinx rendered scikit-learn.org. See: https://github.com/scikit-learn/scikit-learn/issues/21755 */display: inline-block !important;position: relative;}#sk-container-id-18 div.sk-text-repr-fallback {display: none;}</style><div id=\"sk-container-id-18\" class=\"sk-top-container\"><div class=\"sk-text-repr-fallback\"><pre>RandomForestClassifier(max_depth=5, min_samples_split=5, n_estimators=500)</pre><b>In a Jupyter environment, please rerun this cell to show the HTML representation or trust the notebook. <br />On GitHub, the HTML representation is unable to render, please try loading this page with nbviewer.org.</b></div><div class=\"sk-container\" hidden><div class=\"sk-item\"><div class=\"sk-estimator sk-toggleable\"><input class=\"sk-toggleable__control sk-hidden--visually\" id=\"sk-estimator-id-18\" type=\"checkbox\" checked><label for=\"sk-estimator-id-18\" class=\"sk-toggleable__label sk-toggleable__label-arrow\">RandomForestClassifier</label><div class=\"sk-toggleable__content\"><pre>RandomForestClassifier(max_depth=5, min_samples_split=5, n_estimators=500)</pre></div></div></div></div></div>"
      ],
      "text/plain": [
       "RandomForestClassifier(max_depth=5, min_samples_split=5, n_estimators=500)"
      ]
     },
     "execution_count": 581,
     "metadata": {},
     "output_type": "execute_result"
    }
   ],
   "source": [
    "rfc = RandomForestClassifier(max_depth= 5, min_samples_leaf= 1, min_samples_split= 5,\n",
    " n_estimators= 500)\n",
    "rfc.fit(X2_train_scal, selected_feature_y_train)"
   ]
  },
  {
   "cell_type": "code",
   "execution_count": 582,
   "metadata": {},
   "outputs": [
    {
     "name": "stdout",
     "output_type": "stream",
     "text": [
      "0.6211487257512363\n"
     ]
    }
   ],
   "source": [
    "rfc_pred = rfc.predict(X2_test_scal)\n",
    "accuracy = accuracy_score(y_test, y_pred)\n",
    "print(accuracy)"
   ]
  },
  {
   "cell_type": "code",
   "execution_count": 583,
   "metadata": {},
   "outputs": [
    {
     "data": {
      "image/png": "[encoded data removed]",
      "text/plain": [
       "<Figure size 576x432 with 1 Axes>"
      ]
     },
     "metadata": {
      "needs_background": "light"
     },
     "output_type": "display_data"
    }
   ],
   "source": [
    "fpr, tpr, thresholds = roc_curve(y_test, rfc_pred)\n",
    "auc = roc_auc_score(y_test, rfc_pred)\n",
    "\n",
    "\n",
    "plt.figure(figsize=(8, 6))\n",
    "plt.plot(fpr, tpr, label=f'ROC Curve (AUC = {auc:.2f})')\n",
    "plt.plot([0, 1], [0, 1], 'k--')\n",
    "plt.xlim([0.0, 1.0])\n",
    "plt.ylim([0.0, 1.05])\n",
    "plt.xlabel('False Positive Rate')\n",
    "plt.ylabel('True Positive Rate')\n",
    "plt.title('Receiver Operating Characteristic')\n",
    "plt.legend(loc='lower right')\n",
    "plt.show()"
   ]
  }
 ],
 "metadata": {
  "kernelspec": {
   "display_name": "Python 3",
   "language": "python",
   "name": "python3"
  },
  "language_info": {
   "codemirror_mode": {
    "name": "ipython",
    "version": 3
   },
   "file_extension": ".py",
   "mimetype": "text/x-python",
   "name": "python",
   "nbconvert_exporter": "python",
   "pygments_lexer": "ipython3",
   "version": "3.8.6"
  }
 },
 "nbformat": 4,
 "nbformat_minor": 4
}
